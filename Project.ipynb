{
 "cells": [
  {
   "cell_type": "code",
   "execution_count": null,
   "id": "42acc8d7",
   "metadata": {},
   "outputs": [],
   "source": [
    "import numpy as np\n",
    "import matplotlib.pyplot as plt\n",
    "import scipy.integrate as integrate\n",
    "\n",
    "from scipy.special import gamma\n",
    "from tabulate import tabulate\n",
    "from time import time"
   ]
  },
  {
   "cell_type": "markdown",
   "id": "81e62c28",
   "metadata": {},
   "source": [
    "### Values for reference"
   ]
  },
  {
   "cell_type": "code",
   "execution_count": null,
   "id": "5f410fc4",
   "metadata": {},
   "outputs": [],
   "source": [
    "european_call_ref = 0.056832\n",
    "variance_swap_price_ref = 0.028295\n",
    "variance_call_price_ref = 0.013517"
   ]
  },
  {
   "cell_type": "markdown",
   "id": "86ca215d",
   "metadata": {},
   "source": [
    "### Kernel function"
   ]
  },
  {
   "cell_type": "code",
   "execution_count": null,
   "id": "253c115d",
   "metadata": {},
   "outputs": [],
   "source": [
    "def K_t(t):\n",
    "    if t == 0:\n",
    "        return 0\n",
    "    \n",
    "    return t**(H-0.5)/gamma(H+0.5) #check"
   ]
  },
  {
   "cell_type": "code",
   "execution_count": null,
   "id": "0f6e5e17",
   "metadata": {},
   "outputs": [],
   "source": [
    "M = 10**3\n",
    "n = 5\n",
    "\n",
    "l = 0.3\n",
    "nu = 0.3\n",
    "theta = 0.02\n",
    "rho = -0.7\n",
    "H = 0.1\n",
    "\n",
    "K = 1\n",
    "\n",
    "V_0 = 0.02\n",
    "S_0 = 1\n",
    "Y_0 = np.log(S_0)"
   ]
  },
  {
   "cell_type": "code",
   "execution_count": null,
   "id": "462fc93b",
   "metadata": {},
   "outputs": [],
   "source": [
    "n_check_array = [4,10,20,40,80,160,320]"
   ]
  },
  {
   "cell_type": "code",
   "execution_count": null,
   "id": "285f2c51",
   "metadata": {},
   "outputs": [],
   "source": [
    "t_0 = 0\n",
    "T = 1"
   ]
  },
  {
   "cell_type": "code",
   "execution_count": null,
   "id": "fad0a614",
   "metadata": {},
   "outputs": [],
   "source": [
    "def european_call_options(x):\n",
    "    return np.maximum(x-K,0)\n",
    "\n",
    "def asian_options(x):\n",
    "    A_T = T*np.mean(x)\n",
    "    \n",
    "    return np.maximum(A_T-K,0)\n",
    "\n",
    "def lookback_options(x):\n",
    "    M_T = np.max(x)\n",
    "    \n",
    "    return np.maximum(M_T-K,0)\n",
    "\n",
    "def variance_swap_price(x):\n",
    "    return x\n",
    "\n",
    "def variance_call_price(x):\n",
    "    return np.maximum(x-V_0,0)"
   ]
  },
  {
   "cell_type": "code",
   "execution_count": null,
   "id": "875e55b2",
   "metadata": {},
   "outputs": [],
   "source": [
    "#t_delta = T/n\n",
    "#t = [k*t_delta for k in range(n)]\n",
    "#\n",
    "#K_t_delta = np.zeros((n,n))\n",
    "#for k in range(n):\n",
    "#    for i in range(k):\n",
    "#        K_t_delta[k,i] = K_t(t[k]-t[i])"
   ]
  },
  {
   "cell_type": "markdown",
   "id": "1645b7fd",
   "metadata": {},
   "source": [
    "# Risky asset price under the risk-neutral probability & Volatility\n",
    "_Scheme (6)_"
   ]
  },
  {
   "cell_type": "code",
   "execution_count": null,
   "id": "9a316cda",
   "metadata": {},
   "outputs": [],
   "source": [
    "def S_V_process(n):\n",
    "\n",
    "    t_delta = T/n\n",
    "    t = [k*t_delta for k in range(n)]\n",
    "\n",
    "    K_t_delta = np.zeros((n,n))\n",
    "    for k in range(n):\n",
    "        for i in range(k):\n",
    "            K_t_delta[k,i] = K_t(t[k]-t[i])\n",
    "\n",
    "    G1 = np.random.randn(n)\n",
    "    G2 = np.random.randn(n)\n",
    "\n",
    "    W = np.zeros(n)\n",
    "    W_orth = np.zeros(n)\n",
    "\n",
    "    for i in range(n-1):\n",
    "        W[i+1] = W[i] + np.sqrt(t[i+1] - t[i])*G1[i]\n",
    "        W_orth[i+1] = W[i] + np.sqrt(t[i+1] - t[i])*G2[i]\n",
    "    \n",
    "    Y_n = np.zeros(n)\n",
    "    V_n = np.zeros(n)\n",
    "\n",
    "    S_n = np.zeros(n)\n",
    "\n",
    "    S_n[0] = np.exp(Y_0)\n",
    "    \n",
    "    Y_sum = 0\n",
    "    V_sum = 0\n",
    "    \n",
    "    for k in range(1,n):\n",
    "        Y_sum = Y_sum + (-0.5*V_n[k-1] + (t[k] - t[k-1]) + rho*np.sqrt(np.maximum(V_n[k-1],0))*(W[k] - W[k-1]) //\n",
    "                      + np.sqrt(1 - rho**2)*np.sqrt(np.maximum(V_n[k-1],0))*(W_orth[k] - W_orth[k-1]))\n",
    "        Y_n[k] = Y_0 + Y_sum\n",
    "\n",
    "        for i in range(k):\n",
    "            V_sum = V_sum + K_t(t[k]-t[i])*(theta - l*np.maximum(V_n[i],0))*(t[i+1] - t[i]) \n",
    "            + K_t(t[k]-t[i])*nu*np.sqrt(np.maximum(V_n[i],0))*(W[i+1] - W[i])\n",
    "        \n",
    "        #V_sum = sum(K_t_delta[k,i]*(theta - l*np.maximum(V_n[i],0))*(t[i+1] - t[i]) //\n",
    "        #              + K_t_delta[k,i]*nu*np.sqrt(np.maximum(V_n[i],0))*(W[i+1] - W[i]) for i in range(k))\n",
    "        \n",
    "        V_n[k] = V_0 + V_sum\n",
    "\n",
    "        S_n[k] = np.exp(Y_n[k])\n",
    "   \n",
    "    return (V_n,S_n)\n"
   ]
  },
  {
   "cell_type": "markdown",
   "id": "31b750b2",
   "metadata": {},
   "source": [
    "### Test"
   ]
  },
  {
   "cell_type": "code",
   "execution_count": null,
   "id": "2adc7af0",
   "metadata": {},
   "outputs": [],
   "source": [
    "function_8_scheme = european_call_options"
   ]
  },
  {
   "cell_type": "code",
   "execution_count": null,
   "id": "8c501a42",
   "metadata": {},
   "outputs": [],
   "source": [
    "S_n_M = np.zeros(M)\n",
    "\n",
    "for m in range(M):\n",
    "    S_n_m = S_V_process(n)[1]\n",
    "    S_n_M[m] = S_n_m[-1]\n",
    "\n",
    "\n",
    "U_M = np.mean(function_8_scheme(S_n_M))\n",
    "var_M = np.var(function_8_scheme(S_n_M))\n",
    "\n",
    "error = 2*var_M/np.sqrt(M)\n",
    "confidence_interval = [U_M - 2*error, U_M + 2*error]\n",
    "\n",
    "print(\"E =\", U_M)\n",
    "print(\"Var =\", var_M)\n",
    "print(confidence_interval)\n",
    "#print(S_n_M)"
   ]
  },
  {
   "cell_type": "code",
   "execution_count": null,
   "id": "bb6e7a7c",
   "metadata": {},
   "outputs": [],
   "source": [
    "U_M_n = np.zeros(n)\n",
    "\n",
    "for i in range(n):\n",
    "    S_n_M = np.zeros(M)\n",
    "\n",
    "    for m in range(M):\n",
    "        S_n_m = S_V_process(n)[1]\n",
    "        S_n_M[m] = S_n_m[-1]\n",
    "        \n",
    "    U_M = np.mean(function_8_scheme(S_n_M))\n",
    "    U_M_n[i] = U_M\n",
    "\n",
    "integers1toN = np.arange(1,n+1)\n",
    "cum_sum_n = np.cumsum(U_M_n)/integers1toN\n",
    "\n",
    "plt.plot(integers1toN, cum_sum_n, color=\"b\")"
   ]
  },
  {
   "cell_type": "code",
   "execution_count": null,
   "id": "dbc7dd85",
   "metadata": {},
   "outputs": [],
   "source": [
    "integers1toM = np.arange(1,M+1)\n",
    "cum_sum = np.cumsum(function_8_scheme(S_n_M))/integers1toM\n",
    "\n",
    "plt.plot(integers1toM, cum_sum, color=\"b\")"
   ]
  },
  {
   "cell_type": "markdown",
   "id": "37244ad9",
   "metadata": {},
   "source": [
    "# Integrated variance formulation (integrated-rough Heston model)\n",
    "_Scheme (7)_"
   ]
  },
  {
   "cell_type": "code",
   "execution_count": null,
   "id": "2dbcc65b",
   "metadata": {},
   "outputs": [],
   "source": [
    "def S_X_process(n):\n",
    "    \n",
    "    t_delta = T/n\n",
    "    t = [k*t_delta for k in range(n)]\n",
    "    \n",
    "    Y_n = np.zeros(n)\n",
    "    X_n = np.zeros(n)\n",
    "    X_n_max = np.zeros(n)\n",
    "    \n",
    "    S_n = np.zeros(n)\n",
    "\n",
    "    M_n = np.zeros(n)\n",
    "    M_n_orth = np.zeros(n)\n",
    "\n",
    "    S_n[0] = np.exp(Y_0)\n",
    "        \n",
    "    Z = np.random.normal(0,1,n)\n",
    "    Z_orth = np.random.normal(0,1,n)\n",
    "    \n",
    "    for k in range(n):\n",
    "        #print(k)\n",
    "        X_n_max[k] = np.max(X_n)\n",
    "\n",
    "        for i in range(1,k):\n",
    "            #print(i)\n",
    "            M_n[k] = M_n[k] + np.sqrt(X_n_max[i] - X_n_max[i-1])*Z[i]\n",
    "            M_n_orth[k] = M_n_orth[k] + np.sqrt(X_n_max[i] - X_n_max[i-1])*Z_orth[i]\n",
    "\n",
    "        Y_n[k] = Y_0 - 0.5*X_n_max[k] + rho*M_n[k] + np.sqrt(1 - rho**2)*M_n_orth[k]\n",
    "\n",
    "        X_sum = 0\n",
    "        for i in range(k):\n",
    "            #print(K_integral, K_t(t[k] - t[i])*theta*t[i]*(t[i+1]-t[i]))\n",
    "            X_sum = X_sum + (-l*X_n_max[i] + nu*M_n[i])*(t[i+1]-t[i])\n",
    "            #X_sum = X_sum + K_t(t[k] - t[i])*(theta*t[i] - l*X_n_max[i] + nu*M_n[i])*(t[i+1]-t[i])\n",
    "\n",
    "        K_integral = integrate.quad(lambda s: theta*K_t(t[k]-s)*s,0,t[k])[0]\n",
    "        X_sum = X_sum + K_integral\n",
    "        \n",
    "        X_n[k] = V_0*t[k] + X_sum\n",
    "        \n",
    "        S_n[k] = np.exp(Y_n[k])\n",
    "    \n",
    "    return (S_n, X_n) #S_n is not correct"
   ]
  },
  {
   "cell_type": "markdown",
   "id": "a46c4591",
   "metadata": {},
   "source": [
    "### Test"
   ]
  },
  {
   "cell_type": "code",
   "execution_count": null,
   "id": "1c7b7a51",
   "metadata": {},
   "outputs": [],
   "source": [
    "function_9_scheme = variance_swap_price"
   ]
  },
  {
   "cell_type": "code",
   "execution_count": null,
   "id": "4d666173",
   "metadata": {},
   "outputs": [],
   "source": [
    "X_n_M = np.zeros(M)\n",
    "\n",
    "for m in range(M):\n",
    "    X_n_m = S_X_process(n)[1]\n",
    "    X_n_M[m] = X_n_m[-1]\n",
    "    #print()\n",
    "\n",
    "U_M = np.mean(function_9_scheme(X_n_M))\n",
    "var_M = np.var(function_9_scheme(X_n_M))\n",
    "\n",
    "error = 2*var_M/np.sqrt(M)\n",
    "confidence_interval = [U_M - 2*error, U_M + 2*error]\n",
    "\n",
    "print(\"E =\", U_M)\n",
    "print(\"Var =\", var_M)\n",
    "print(confidence_interval)"
   ]
  },
  {
   "cell_type": "code",
   "execution_count": null,
   "id": "22f670fa",
   "metadata": {},
   "outputs": [],
   "source": [
    "integers1toM = np.arange(1,M+1)\n",
    "cum_sum = np.cumsum(function_9_scheme(X_n_M))/integers1toM\n",
    "\n",
    "#plt.plot(integers1toM, cum_sum, color=\"b\")"
   ]
  },
  {
   "cell_type": "markdown",
   "id": "0961bd8f",
   "metadata": {},
   "source": [
    "## Main algorithm"
   ]
  },
  {
   "cell_type": "code",
   "execution_count": null,
   "id": "e0a844d5",
   "metadata": {},
   "outputs": [],
   "source": [
    "def main(process,f):\n",
    "    U_M_n = np.zeros(n)\n",
    "    errors = np.zeros(n)\n",
    "\n",
    "    U_M_table = []\n",
    "    errors_table = []\n",
    "    time_table = []\n",
    "\n",
    "    for i in range(n):\n",
    "        t_0 = time()\n",
    "\n",
    "        X_n_M = np.zeros(M)\n",
    "\n",
    "        for m in range(M):\n",
    "            X_n_m = process(i+1)[1]\n",
    "            X_n_M[m] = X_n_m[-1]\n",
    "\n",
    "        U_M = np.mean(f(X_n_M))\n",
    "        U_M_n[i] = U_M\n",
    "\n",
    "        var_M = np.var(f(X_n_M))\n",
    "\n",
    "        error = 2*var_M/np.sqrt(M)\n",
    "        errors[i] = error\n",
    "\n",
    "        confidence_interval = [U_M - 2*error, U_M + 2*error]\n",
    "\n",
    "        t_1 = time()\n",
    "\n",
    "        if i in n_check_array:\n",
    "            U_M_table.append(U_M)\n",
    "            errors_table.append(error)\n",
    "            time_table.append(t_1 - t_0)\n",
    "\n",
    "    integers1toN = np.arange(1,n+1)\n",
    "    cum_sum_n = np.cumsum(U_M_n)/integers1toN\n",
    "\n",
    "    return {\"U_M_table\": U_M_table, \n",
    "            \"errors_table\": errors_table, \n",
    "            \"time_table\": time_table,\n",
    "            \"cum_sum_n\": cum_sum_n,\n",
    "            \"errors\": errors}"
   ]
  },
  {
   "cell_type": "code",
   "execution_count": null,
   "id": "e6d71cb5",
   "metadata": {},
   "outputs": [],
   "source": [
    "def scheme_8(f):\n",
    "    return main(S_V_process, f)"
   ]
  },
  {
   "cell_type": "code",
   "execution_count": null,
   "id": "328a37a3",
   "metadata": {},
   "outputs": [],
   "source": [
    "def scheme_9(f):\n",
    "    return main(S_X_process, f)"
   ]
  },
  {
   "cell_type": "markdown",
   "id": "33e08f1e",
   "metadata": {},
   "source": [
    "### Auxilary functions for displaying the results"
   ]
  },
  {
   "cell_type": "code",
   "execution_count": null,
   "id": "f078bb10",
   "metadata": {},
   "outputs": [],
   "source": [
    "def plot_estimations(scheme_8_data, scheme_9_data, title=\"E[f(S,X)]\", ref_value=None):\n",
    "    integers1toN = np.arange(1,n+1)\n",
    "    \n",
    "    fig, ax = plt.subplots()\n",
    "    \n",
    "    ax.plot(integers1toN, scheme_8_data['cum_sum_n'], label='Scheme (8)', color=\"blue\")\n",
    "    ax.fill_between(integers1toN, scheme_8_data['cum_sum_n'] - scheme_8_data['errors'], \n",
    "                    scheme_8_data['cum_sum_n'] + scheme_8_data['errors'], label='Confidence interval', \n",
    "                    color='blue', alpha=.1)\n",
    "    \n",
    "    ax.plot(integers1toN, scheme_9_data['cum_sum_n'], label='Scheme (9)', color=\"orange\")\n",
    "    ax.fill_between(integers1toN, scheme_9_data['cum_sum_n'] - scheme_9_data['errors'], \n",
    "                    scheme_9_data['cum_sum_n'] + scheme_9_data['errors'], label='Confidence interval', \n",
    "                    color='orange', alpha=.1)\n",
    "\n",
    "    if ref_value is not None:\n",
    "        ax.axhline(ref_value, label='reference value', color=\"green\", linestyle='--')\n",
    "    \n",
    "    ax.legend(loc=1)\n",
    "    \n",
    "    plt.title(f\"Estimation of {title}\")\n",
    "    plt.xlabel(\"Number of steps\")\n",
    "    plt.ylabel(\"Estimation\")\n",
    "    \n",
    "    plt.show()"
   ]
  },
  {
   "cell_type": "code",
   "execution_count": null,
   "id": "f2eae198",
   "metadata": {},
   "outputs": [],
   "source": [
    "def show_numerical_results_table(scheme_8_results, scheme_9_results, ref_value):\n",
    "    #TODO init constants\n",
    "    table_size = np.size(scheme_8_results[\"U_M_table\"])\n",
    "    \n",
    "    print(\"\\tEstimation of E[X_T] with Scheme (8) (left) and Scheme (9) (right). The computation time is in seconds.\")\n",
    "    print()\n",
    "    print(\"\\tMean Value\\t Stat.Error\\t Comp.Time\\t||\\t Mean Value\\t Stat.Error\\t Comp.Time\")\n",
    "    print(f\"Ref\\t {ref_value}\")\n",
    "    for k in range(table_size):\n",
    "        print(f\"n={n_check_array[k]}\\t\",\n",
    "        f\"{scheme_8_results['U_M_table'][k]:f}\\t\",\n",
    "        f\"{scheme_8_results['errors_table'][k]:f}\\t\",\n",
    "        f\"{scheme_8_results['time_table'][k]:f}\\t||\\t\",\n",
    "        f\"{scheme_9_results['U_M_table'][k]:f}\\t\",\n",
    "        f\"{scheme_9_results['errors_table'][k]:f}\\t\",\n",
    "        f\"{scheme_9_results['time_table'][k]:f}\")\n"
   ]
  },
  {
   "cell_type": "markdown",
   "id": "4c61a4ba",
   "metadata": {},
   "source": [
    "# Numerical results"
   ]
  },
  {
   "cell_type": "markdown",
   "id": "7e8c2951",
   "metadata": {},
   "source": [
    "## _European call_ maximum(S_T-K,0)"
   ]
  },
  {
   "cell_type": "code",
   "execution_count": null,
   "id": "e710c914",
   "metadata": {},
   "outputs": [],
   "source": [
    "scheme_8_results = scheme_8(european_call_options)\n",
    "scheme_9_results = scheme_9(european_call_options)"
   ]
  },
  {
   "cell_type": "code",
   "execution_count": null,
   "id": "2f9405ba",
   "metadata": {},
   "outputs": [],
   "source": [
    "plot_estimations(scheme_8_results, scheme_9_results, \"E[maximum(S_T-K,0)]\", european_call_ref)\n",
    "show_numerical_results_table(scheme_8_results, scheme_9_results, european_call_ref)"
   ]
  },
  {
   "cell_type": "markdown",
   "id": "48931099",
   "metadata": {},
   "source": [
    "## _Asian option_ maximum(A_T-K,0)"
   ]
  },
  {
   "cell_type": "code",
   "execution_count": null,
   "id": "fb5d48ee",
   "metadata": {},
   "outputs": [],
   "source": [
    "scheme_8_results = scheme_8(asian_options)\n",
    "scheme_9_results = scheme_9(asian_options)"
   ]
  },
  {
   "cell_type": "code",
   "execution_count": null,
   "id": "aad72114",
   "metadata": {},
   "outputs": [],
   "source": [
    "plot_estimations(scheme_8_results, scheme_9_results, \"E[maximum(A_T-K,0)]\")\n",
    "show_numerical_results_table(scheme_8_results, scheme_9_results, \"-\")"
   ]
  },
  {
   "cell_type": "markdown",
   "id": "b3e77bfd",
   "metadata": {},
   "source": [
    "## _Lookback option_ maximum(M_T-K,0)"
   ]
  },
  {
   "cell_type": "code",
   "execution_count": null,
   "id": "92a485c7",
   "metadata": {},
   "outputs": [],
   "source": [
    "scheme_8_results = scheme_8(lookback_options)\n",
    "scheme_9_results = scheme_9(lookback_options)"
   ]
  },
  {
   "cell_type": "code",
   "execution_count": null,
   "id": "35a1e7c4",
   "metadata": {},
   "outputs": [],
   "source": [
    "plot_estimations(scheme_8_results, scheme_9_results, \"E[maximum(M_T-K,0)]\")\n",
    "show_numerical_results_table(scheme_8_results, scheme_9_results, \"-\")"
   ]
  },
  {
   "cell_type": "markdown",
   "id": "ad0ca986",
   "metadata": {},
   "source": [
    "## _Variance swap price_ E[X_t]"
   ]
  },
  {
   "cell_type": "code",
   "execution_count": null,
   "id": "c1659826",
   "metadata": {},
   "outputs": [],
   "source": [
    "scheme_8_results = scheme_8(variance_swap_price)\n",
    "scheme_9_results = scheme_9(variance_swap_price)"
   ]
  },
  {
   "cell_type": "code",
   "execution_count": null,
   "id": "bce63f28",
   "metadata": {},
   "outputs": [],
   "source": [
    "plot_estimations(scheme_8_results, scheme_9_results, \"E[X_T]\", variance_swap_price_ref)\n",
    "show_numerical_results_table(scheme_8_results, scheme_9_results, variance_swap_price_ref)"
   ]
  },
  {
   "cell_type": "markdown",
   "id": "cdd926fb",
   "metadata": {},
   "source": [
    "## _Variance call price_ E[maximum(X_T-V_0,0)]"
   ]
  },
  {
   "cell_type": "code",
   "execution_count": null,
   "id": "a58c6220",
   "metadata": {},
   "outputs": [],
   "source": [
    "scheme_8_results = scheme_8(variance_call_price)\n",
    "scheme_9_results = scheme_9(variance_call_price)"
   ]
  },
  {
   "cell_type": "code",
   "execution_count": null,
   "id": "6ee2e304",
   "metadata": {},
   "outputs": [],
   "source": [
    "plot_estimations(scheme_8_results, scheme_9_results, \"E[maximum(X_T-V_0,0)]\", variance_swap_price_ref)\n",
    "show_numerical_results_table(scheme_8_results, scheme_9_results, variance_call_price_ref)"
   ]
  }
 ],
 "metadata": {
  "kernelspec": {
   "display_name": "Python 3 (ipykernel)",
   "language": "python",
   "name": "python3"
  },
  "language_info": {
   "codemirror_mode": {
    "name": "ipython",
    "version": 3
   },
   "file_extension": ".py",
   "mimetype": "text/x-python",
   "name": "python",
   "nbconvert_exporter": "python",
   "pygments_lexer": "ipython3",
   "version": "3.9.7"
  }
 },
 "nbformat": 4,
 "nbformat_minor": 5
}
