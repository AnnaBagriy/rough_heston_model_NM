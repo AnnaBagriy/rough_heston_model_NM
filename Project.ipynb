{
 "cells": [
  {
   "cell_type": "code",
   "execution_count": 1,
   "id": "42acc8d7",
   "metadata": {},
   "outputs": [],
   "source": [
    "import numpy as np\n",
    "import matplotlib.pyplot as plt\n",
    "import scipy.integrate as integrate\n",
    "\n",
    "from scipy.special import gamma\n",
    "from tabulate import tabulate\n",
    "from time import time"
   ]
  },
  {
   "cell_type": "markdown",
   "id": "81e62c28",
   "metadata": {},
   "source": [
    "### Values for reference"
   ]
  },
  {
   "cell_type": "code",
   "execution_count": 2,
   "id": "5f410fc4",
   "metadata": {},
   "outputs": [],
   "source": [
    "european_call_ref = 0.056832\n",
    "variance_swap_price_ref = 0.028295\n",
    "variance_call_price_ref = 0.013517"
   ]
  },
  {
   "cell_type": "markdown",
   "id": "86ca215d",
   "metadata": {},
   "source": [
    "### Kernel function"
   ]
  },
  {
   "cell_type": "code",
   "execution_count": 3,
   "id": "253c115d",
   "metadata": {},
   "outputs": [],
   "source": [
    "def K_t(t):\n",
    "    if t == 0:\n",
    "        return 0\n",
    "    \n",
    "    return t**(H-0.5)/gamma(H+0.5) #check"
   ]
  },
  {
   "cell_type": "code",
   "execution_count": 4,
   "id": "0f6e5e17",
   "metadata": {},
   "outputs": [],
   "source": [
    "M = 10**2\n",
    "n = 10\n",
    "\n",
    "l = 0.3\n",
    "nu = 0.3\n",
    "theta = 0.02\n",
    "rho = -0.7\n",
    "H = 0.1\n",
    "\n",
    "K = 1\n",
    "\n",
    "V_0 = 0.02\n",
    "S_0 = 1\n",
    "Y_0 = np.log(S_0)"
   ]
  },
  {
   "cell_type": "code",
   "execution_count": 5,
   "id": "462fc93b",
   "metadata": {},
   "outputs": [],
   "source": [
    "n_check_array = [2*k for k in range(2,25)]"
   ]
  },
  {
   "cell_type": "code",
   "execution_count": 203,
   "id": "285f2c51",
   "metadata": {},
   "outputs": [],
   "source": [
    "t_0 = 0\n",
    "T = 1"
   ]
  },
  {
   "cell_type": "code",
   "execution_count": 204,
   "id": "fad0a614",
   "metadata": {},
   "outputs": [],
   "source": [
    "def european_call_options(x):\n",
    "    return np.maximum(x-K,0)\n",
    "\n",
    "def asian_options(x):\n",
    "    A_T = T*np.mean(x)\n",
    "    \n",
    "    return np.maximum(A_T-K,0)\n",
    "\n",
    "def lookback_options(x):\n",
    "    M_T = np.max(x)\n",
    "    \n",
    "    return np.maximum(M_T-K,0)\n",
    "\n",
    "def variance_swap_price(x):\n",
    "    return x\n",
    "\n",
    "def variance_call_price(x):\n",
    "    return np.maximum(x-V_0,0)"
   ]
  },
  {
   "cell_type": "code",
   "execution_count": 205,
   "id": "875e55b2",
   "metadata": {},
   "outputs": [],
   "source": [
    "#t_delta = T/n\n",
    "#t = [k*t_delta for k in range(n)]\n",
    "#\n",
    "#K_t_delta = np.zeros((n,n))\n",
    "#for k in range(n):\n",
    "#    for i in range(k):\n",
    "#        K_t_delta[k,i] = K_t(t[k]-t[i])"
   ]
  },
  {
   "cell_type": "code",
   "execution_count": 206,
   "id": "af5a7aa6",
   "metadata": {},
   "outputs": [],
   "source": [
    "def test_scheme_for_fixed_n(process, f, n=5):\n",
    "    S_n_M = np.zeros(M)\n",
    "\n",
    "    for m in range(M):\n",
    "        S_n_m = process(n)[1]\n",
    "        S_n_M[m] = S_n_m[-1]\n",
    "\n",
    "    U_M = np.mean(f(S_n_M))\n",
    "    var_M = np.var(f(S_n_M))\n",
    "\n",
    "    error = 2*var_M/np.sqrt(M)\n",
    "    confidence_interval = [U_M - error, U_M + error]\n",
    "\n",
    "    print(\"E =\", U_M)\n",
    "    print(\"Var =\", var_M)\n",
    "    print(confidence_interval)\n",
    "\n",
    "    U_M_n = np.zeros(n)\n",
    "        \n",
    "    for i in range(n):\n",
    "        S_n_M = np.zeros(M)\n",
    "\n",
    "        for m in range(M):\n",
    "            S_n_m = process(n)[1]\n",
    "            S_n_M[m] = S_n_m[-1]\n",
    "\n",
    "        U_M = np.mean(f(S_n_M))\n",
    "        U_M_n[i] = U_M\n",
    "\n",
    "    integers1toM = np.arange(1,M+1)\n",
    "    cum_sum = np.cumsum(f(S_n_M))/integers1toM\n",
    "\n",
    "    plt.plot(integers1toM, cum_sum, color=\"b\")\n",
    "    \n",
    "    plt.xlabel(\"M\")\n",
    "    plt.ylabel(\"Expectation\")\n",
    "    \n",
    "    plt.show()\n",
    "    \n",
    "    return S_n_M"
   ]
  },
  {
   "cell_type": "code",
   "execution_count": 207,
   "id": "97c1a6f2",
   "metadata": {},
   "outputs": [],
   "source": [
    "def test_scheme_for_all_n(process, f, n=5):\n",
    "    U_M_n = np.zeros(n)\n",
    "        \n",
    "    for i in range(n):\n",
    "        S_n_M = np.zeros(M)\n",
    "\n",
    "        for m in range(M):\n",
    "            S_n_m = process(n)[1]\n",
    "            S_n_M[m] = S_n_m[-1]\n",
    "\n",
    "        U_M = np.mean(f(S_n_M))\n",
    "        U_M_n[i] = U_M\n",
    "\n",
    "    integers1toN = np.arange(1,n+1)\n",
    "    cum_sum_n = np.cumsum(U_M_n)/integers1toN\n",
    "\n",
    "    plt.plot(integers1toN, cum_sum_n, color=\"b\")\n",
    "    \n",
    "    plt.xlabel(\"n\")\n",
    "    plt.ylabel(\"Expectation\")\n",
    "    \n",
    "    plt.show()"
   ]
  },
  {
   "cell_type": "code",
   "execution_count": 208,
   "id": "2adc7af0",
   "metadata": {},
   "outputs": [],
   "source": [
    "function_for_scheme = european_call_options"
   ]
  },
  {
   "cell_type": "markdown",
   "id": "1645b7fd",
   "metadata": {},
   "source": [
    "# Risky asset price under the risk-neutral probability & Volatility\n",
    "_Scheme (6)_"
   ]
  },
  {
   "cell_type": "code",
   "execution_count": 209,
   "id": "775f6a8d",
   "metadata": {},
   "outputs": [],
   "source": [
    "n_in = 2\n",
    "t = [k*T/(n_in-1) for k in range(n_in)]\n",
    "\n",
    "def generate_subdivision(t,n):\n",
    "    #for i in range(4):\n",
    "\n",
    "    t_size = np.size(t)\n",
    "    t_temp = t\n",
    "    \n",
    "    for k in range(0,t_size-1):\n",
    "        t = np.insert(t,2*k+1,(t_temp[k+1]+t_temp[k])/2)\n",
    "        \n",
    "    return t"
   ]
  },
  {
   "cell_type": "code",
   "execution_count": 279,
   "id": "20b4c7cd",
   "metadata": {},
   "outputs": [],
   "source": [
    "def generate_BM(n,t,W,W_orth):\n",
    "    #print('---n',n)\n",
    "    \n",
    "    if np.size(W)==0 or np.size(W_orth)==0:\n",
    "        G1 = np.random.randn(n)\n",
    "        G2 = np.random.randn(n)\n",
    "        \n",
    "        W.append(0)\n",
    "        W_orth.append(0)\n",
    "        \n",
    "        for i in range(n-1):\n",
    "            W.append(W[i] + np.sqrt(t[i+1] - t[i])*G1[i])\n",
    "            W_orth.append(W_orth[i] + np.sqrt(t[i+1] - t[i])*G2[i])\n",
    "        \n",
    "        return W, W_orth\n",
    "    \n",
    "    #if np.size(W) != int(n/2):\n",
    "    #    raise Exception(f'Wrong array size: n={n}, size(W)={np.size(W)}, n/2={int(n/2)}')\n",
    "   \n",
    "    W_temp = W\n",
    "    W_orth_temp = W_orth\n",
    "    \n",
    "    #print(\"----Initial array: W=\",W)\n",
    "    j = 1\n",
    "    for i in range(1,np.size(W)):\n",
    "        W_k = np.random.normal((W[j]+W[j-1])/2, (t[j+1]-t[j-1])/4)\n",
    "        W_orth_k = np.random.normal((W_orth[j]+W_orth[j-1])/2, (t[j+1]-t[j-1])/4)\n",
    "        \n",
    "        W_temp.insert(j,W_k)\n",
    "        W_orth_temp.insert(j,W_orth_k)\n",
    "        \n",
    "        j += 2\n",
    "\n",
    "    return W_temp, W_orth_temp"
   ]
  },
  {
   "cell_type": "code",
   "execution_count": 285,
   "id": "52537bac",
   "metadata": {
    "scrolled": false
   },
   "outputs": [
    {
     "name": "stdout",
     "output_type": "stream",
     "text": [
      "n_initial 2\n",
      "W_init [0, -1.570036713261693]\n",
      "\n"
     ]
    }
   ],
   "source": [
    "n_initial = 2\n",
    "t = [k*T/(n_initial-1) for k in range(n_initial)]\n",
    "\n",
    "W = [0,np.random.normal(0,T)]\n",
    "W_orth = [0,np.random.normal(0,T)]\n",
    "\n",
    "print('n_initial', n_initial)\n",
    "print('W_init', W)\n",
    "print()\n",
    "\n",
    "for n in (2**p for p in range(n_initial,10)):\n",
    "    t = generate_subdivision(t,n)\n",
    "    \n",
    "    W, W_orth = generate_BM(n,t,W,W_orth)\n",
    "    \n",
    "    \n",
    "    #plt.plot(t, W, 'r')\n",
    "    #plt.show()\n",
    "\n",
    "    #print('t=',t,'size=', np.size(t))\n",
    "    #print('W=',W,'size=', np.size(W))\n",
    "    #print()\n",
    "    \n",
    "    Y_n = np.zeros(n+1)\n",
    "    V_n = np.zeros(n+1)\n",
    "\n",
    "    S_n = np.zeros(n+1)\n",
    "\n",
    "    S_n[0] = np.exp(Y_0)\n",
    "    \n",
    "    for k in range(1,np.size(t)):\n",
    "        #Y_sum += (-0.5*V_n[k-1] + (t[k] - t[k-1]) + rho*np.sqrt(np.maximum(V_n[k-1],0))*(W[k] - W[k-1]) //\n",
    "        #              + np.sqrt(1 - rho**2)*np.sqrt(np.maximum(V_n[k-1],0))*(W_orth[k] - W_orth[k-1]))\n",
    "        \n",
    "        Y_sum = 0\n",
    "        V_sum = 0\n",
    "        \n",
    "        for i in range(k):\n",
    "            Y_sum += -0.5*V_n[i] + (t[i+1] - t[i]) + rho*np.sqrt(np.maximum(V_n[i],0))*(W[i+1] - W[i])\n",
    "            + np.sqrt(1 - rho**2)*np.sqrt(np.maximum(V_n[i],0))*(W_orth[i+1] - W_orth[i])\n",
    "        \n",
    "        Y_n[k] = Y_0 + Y_sum\n",
    "\n",
    "        for i in range(k):\n",
    "            #print(i,k,np.size(t))\n",
    "            V_sum += K_t(t[k]-t[i])*(theta - l*np.maximum(V_n[i],0))*(t[i+1] - t[i]) \n",
    "            + K_t(t[k]-t[i])*nu*np.sqrt(np.maximum(V_n[i],0))*(W[i+1] - W[i])\n",
    "        \n",
    "        #V_sum = sum(K_t_delta[k,i]*(theta - l*np.maximum(V_n[i],0))*(t[i+1] - t[i]) //\n",
    "        #              + K_t_delta[k,i]*nu*np.sqrt(np.maximum(V_n[i],0))*(W[i+1] - W[i]) for i in range(k))\n",
    "        \n",
    "        V_n[k] = V_0 + V_sum\n",
    "\n",
    "        S_n[k] = np.exp(Y_n[k])\n",
    "        \n",
    "        #print(V_n)\n",
    "        #print(V_n[-1])\n",
    "\n",
    "    #X_n = sum(V_n[k]*(t[k+1]-t[k]) for k in range(n))\n",
    "    \n",
    "    #print(S_n[-1])\n",
    "result = {\"V_n\": V_n,\n",
    "          \"S_n\": S_n}"
   ]
  },
  {
   "cell_type": "code",
   "execution_count": 266,
   "id": "9a316cda",
   "metadata": {},
   "outputs": [],
   "source": [
    "def S_V_process(n):\n",
    "\n",
    "    t_delta = T/n\n",
    "    t = [k*t_delta for k in range(n+1)]\n",
    "\n",
    "    K_t_delta = np.zeros((n+1,n+1))\n",
    "    for k in range(n+1):\n",
    "        for i in range(k):\n",
    "            K_t_delta[k,i] = K_t(t[k]-t[i])\n",
    "\n",
    "    G1 = np.random.randn(n+1)\n",
    "    G2 = np.random.randn(n+1)\n",
    "\n",
    "    W = np.zeros(n+1)\n",
    "    W_orth = np.zeros(n+1)\n",
    "\n",
    "    for i in range(n):\n",
    "        W[i+1] = W[i] + np.sqrt(t[i+1] - t[i])*G1[i]\n",
    "        W_orth[i+1] = W_orth[i] + np.sqrt(t[i+1] - t[i])*G2[i]\n",
    "    \n",
    "    #plt.plot(np.arange(1,n+1), W)\n",
    "    #plt.show()\n",
    "    \n",
    "    Y_n = np.zeros(n+1)\n",
    "    V_n = np.zeros(n+1)\n",
    "\n",
    "    S_n = np.zeros(n+1)\n",
    "\n",
    "    S_n[0] = np.exp(Y_0)\n",
    "    \n",
    "    for k in range(1,n+1):\n",
    "        #Y_sum += (-0.5*V_n[k-1] + (t[k] - t[k-1]) + rho*np.sqrt(np.maximum(V_n[k-1],0))*(W[k] - W[k-1]) //\n",
    "        #              + np.sqrt(1 - rho**2)*np.sqrt(np.maximum(V_n[k-1],0))*(W_orth[k] - W_orth[k-1]))\n",
    "        \n",
    "        Y_sum = 0\n",
    "        V_sum = 0\n",
    "        \n",
    "        for i in range(k):\n",
    "            Y_sum += -0.5*V_n[i] + (t[i+1] - t[i]) + rho*np.sqrt(np.maximum(V_n[i],0))*(W[i+1] - W[i])\n",
    "            + np.sqrt(1 - rho**2)*np.sqrt(np.maximum(V_n[i],0))*(W_orth[i+1] - W_orth[i])\n",
    "        \n",
    "        Y_n[k] = Y_0 + Y_sum\n",
    "\n",
    "        for i in range(k):\n",
    "            V_sum += K_t(t[k]-t[i])*(theta - l*np.maximum(V_n[i],0))*(t[i+1] - t[i]) \n",
    "            + K_t(t[k]-t[i])*nu*np.sqrt(np.maximum(V_n[i],0))*(W[i+1] - W[i])\n",
    "        \n",
    "        #V_sum = sum(K_t_delta[k,i]*(theta - l*np.maximum(V_n[i],0))*(t[i+1] - t[i]) //\n",
    "        #              + K_t_delta[k,i]*nu*np.sqrt(np.maximum(V_n[i],0))*(W[i+1] - W[i]) for i in range(k))\n",
    "        \n",
    "        V_n[k] = V_0 + V_sum\n",
    "\n",
    "        S_n[k] = np.exp(Y_n[k])\n",
    "\n",
    "    #X_n = sum(V_n[k]*(t[k+1]-t[k]) for k in range(n))\n",
    "    \n",
    "    #print(S_n[-1])\n",
    "    return {\"V_n\": V_n,\n",
    "            \"S_n\": S_n}\n",
    "    #return (V_n, S_n)\n"
   ]
  },
  {
   "cell_type": "markdown",
   "id": "31b750b2",
   "metadata": {},
   "source": [
    "### Test"
   ]
  },
  {
   "cell_type": "code",
   "execution_count": 320,
   "id": "33d8b974",
   "metadata": {},
   "outputs": [
    {
     "name": "stdout",
     "output_type": "stream",
     "text": [
      "[1.         1.10517092 1.33722507 1.38337986 1.55988686 1.69791609\n",
      " 1.90278278 2.10965547 2.2579858  2.66195695 2.57208679]\n"
     ]
    },
    {
     "ename": "KeyError",
     "evalue": "1",
     "output_type": "error",
     "traceback": [
      "\u001b[0;31m---------------------------------------------------------------------------\u001b[0m",
      "\u001b[0;31mKeyError\u001b[0m                                  Traceback (most recent call last)",
      "\u001b[0;32m/var/folders/vt/sdb7skj50blfnp70pjvzn9fw0000gn/T/ipykernel_20176/3599018479.py\u001b[0m in \u001b[0;36m<module>\u001b[0;34m\u001b[0m\n\u001b[0;32m----> 1\u001b[0;31m \u001b[0m_\u001b[0m \u001b[0;34m=\u001b[0m \u001b[0mtest_scheme_for_fixed_n\u001b[0m\u001b[0;34m(\u001b[0m\u001b[0mS_V_process\u001b[0m\u001b[0;34m,\u001b[0m\u001b[0mfunction_for_scheme\u001b[0m\u001b[0;34m,\u001b[0m\u001b[0mn\u001b[0m\u001b[0;34m=\u001b[0m\u001b[0;36m10\u001b[0m\u001b[0;34m)\u001b[0m\u001b[0;34m\u001b[0m\u001b[0;34m\u001b[0m\u001b[0m\n\u001b[0m",
      "\u001b[0;32m/var/folders/vt/sdb7skj50blfnp70pjvzn9fw0000gn/T/ipykernel_20176/3013101969.py\u001b[0m in \u001b[0;36mtest_scheme_for_fixed_n\u001b[0;34m(process, f, n)\u001b[0m\n\u001b[1;32m      3\u001b[0m \u001b[0;34m\u001b[0m\u001b[0m\n\u001b[1;32m      4\u001b[0m     \u001b[0;32mfor\u001b[0m \u001b[0mm\u001b[0m \u001b[0;32min\u001b[0m \u001b[0mrange\u001b[0m\u001b[0;34m(\u001b[0m\u001b[0mM\u001b[0m\u001b[0;34m)\u001b[0m\u001b[0;34m:\u001b[0m\u001b[0;34m\u001b[0m\u001b[0;34m\u001b[0m\u001b[0m\n\u001b[0;32m----> 5\u001b[0;31m         \u001b[0mS_n_m\u001b[0m \u001b[0;34m=\u001b[0m \u001b[0mprocess\u001b[0m\u001b[0;34m(\u001b[0m\u001b[0mn\u001b[0m\u001b[0;34m)\u001b[0m\u001b[0;34m[\u001b[0m\u001b[0;36m1\u001b[0m\u001b[0;34m]\u001b[0m\u001b[0;34m\u001b[0m\u001b[0;34m\u001b[0m\u001b[0m\n\u001b[0m\u001b[1;32m      6\u001b[0m         \u001b[0mS_n_M\u001b[0m\u001b[0;34m[\u001b[0m\u001b[0mm\u001b[0m\u001b[0;34m]\u001b[0m \u001b[0;34m=\u001b[0m \u001b[0mS_n_m\u001b[0m\u001b[0;34m[\u001b[0m\u001b[0;34m-\u001b[0m\u001b[0;36m1\u001b[0m\u001b[0;34m]\u001b[0m\u001b[0;34m\u001b[0m\u001b[0;34m\u001b[0m\u001b[0m\n\u001b[1;32m      7\u001b[0m \u001b[0;34m\u001b[0m\u001b[0m\n",
      "\u001b[0;31mKeyError\u001b[0m: 1"
     ]
    }
   ],
   "source": [
    "_ = test_scheme_for_fixed_n(S_V_process,function_for_scheme,n=10)"
   ]
  },
  {
   "cell_type": "code",
   "execution_count": 201,
   "id": "914806f0",
   "metadata": {},
   "outputs": [
    {
     "data": {
      "image/png": "[encoded data removed]",
      "text/plain": [
       "<Figure size 432x288 with 1 Axes>"
      ]
     },
     "metadata": {
      "needs_background": "light"
     },
     "output_type": "display_data"
    }
   ],
   "source": [
    "test_scheme_for_all_n(S_V_process,function_for_scheme,n=5)"
   ]
  },
  {
   "cell_type": "markdown",
   "id": "37244ad9",
   "metadata": {},
   "source": [
    "# Integrated variance formulation (integrated-rough Heston model)\n",
    "_Scheme (7)_"
   ]
  },
  {
   "cell_type": "code",
   "execution_count": 267,
   "id": "2dbcc65b",
   "metadata": {},
   "outputs": [],
   "source": [
    "def S_X_process(n):\n",
    "    \n",
    "    t_delta = T/n\n",
    "    t = [k*t_delta for k in range(n+1)]\n",
    "    \n",
    "    Y_n = np.zeros(n+1)\n",
    "    X_n = np.zeros(n+1)\n",
    "    X_n_max = np.zeros(n+1)\n",
    "    \n",
    "    S_n = np.zeros(n+1)\n",
    "\n",
    "    M_n = np.zeros(n+1)\n",
    "    M_n_orth = np.zeros(n+1)\n",
    "\n",
    "    S_n[0] = np.exp(Y_0)\n",
    "        \n",
    "    Z = np.random.normal(0,1,n+1)\n",
    "    Z_orth = np.random.normal(0,1,n+1)\n",
    "    \n",
    "    for k in range(n+1):\n",
    "        X_n_max[k] = np.max(X_n)\n",
    "        #print(X_n_max[k])\n",
    "        for i in range(1,k+1):\n",
    "            #print(i)\n",
    "            M_n[k] += np.sqrt(X_n_max[i] - X_n_max[i-1])*Z[i]\n",
    "            M_n_orth[k] += np.sqrt(X_n_max[i] - X_n_max[i-1])*Z_orth[i]\n",
    "\n",
    "        #print(M_n)\n",
    "        #print(M_n_orth)\n",
    "        Y_n[k] = Y_0 - 0.5*X_n_max[k] + rho*M_n[k] + np.sqrt(1 - rho**2)*M_n_orth[k]\n",
    "\n",
    "        X_sum = 0\n",
    "        for i in range(k):\n",
    "            #print(K_integral, K_t(t[k] - t[i])*theta*t[i]*(t[i+1]-t[i]))\n",
    "            X_sum += (-l*X_n_max[i] + nu*M_n[i])*(t[i+1]-t[i])\n",
    "            #X_sum += K_t(t[k] - t[i])*(theta*t[i] - l*X_n_max[i] + nu*M_n[i])*(t[i+1]-t[i])\n",
    "\n",
    "        K_integral = integrate.quad(lambda s: theta*K_t(t[k]-s)*s,0,t[k])[0]\n",
    "        X_sum += K_integral\n",
    "\n",
    "        X_n[k] = V_0*t[k] + X_sum\n",
    "        \n",
    "        S_n[k] = np.exp(Y_n[k])\n",
    "    \n",
    "    #print()\n",
    "    return {\"S_n\": S_n,\n",
    "            \"X_n\": X_n}\n",
    "    #return (S_n, X_n) #X_n is not correct"
   ]
  },
  {
   "cell_type": "markdown",
   "id": "a46c4591",
   "metadata": {},
   "source": [
    "### Test"
   ]
  },
  {
   "cell_type": "code",
   "execution_count": 268,
   "id": "e04eb2b2",
   "metadata": {},
   "outputs": [
    {
     "ename": "KeyError",
     "evalue": "1",
     "output_type": "error",
     "traceback": [
      "\u001b[0;31m---------------------------------------------------------------------------\u001b[0m",
      "\u001b[0;31mKeyError\u001b[0m                                  Traceback (most recent call last)",
      "\u001b[0;32m/var/folders/vt/sdb7skj50blfnp70pjvzn9fw0000gn/T/ipykernel_17842/3057295730.py\u001b[0m in \u001b[0;36m<module>\u001b[0;34m\u001b[0m\n\u001b[0;32m----> 1\u001b[0;31m \u001b[0ms\u001b[0m \u001b[0;34m=\u001b[0m \u001b[0mtest_scheme_for_fixed_n\u001b[0m\u001b[0;34m(\u001b[0m\u001b[0mS_X_process\u001b[0m\u001b[0;34m,\u001b[0m\u001b[0mfunction_for_scheme\u001b[0m\u001b[0;34m,\u001b[0m\u001b[0mn\u001b[0m\u001b[0;34m=\u001b[0m\u001b[0;36m4\u001b[0m\u001b[0;34m)\u001b[0m\u001b[0;34m\u001b[0m\u001b[0;34m\u001b[0m\u001b[0m\n\u001b[0m\u001b[1;32m      2\u001b[0m \u001b[0mprint\u001b[0m\u001b[0;34m(\u001b[0m\u001b[0mnp\u001b[0m\u001b[0;34m.\u001b[0m\u001b[0mmean\u001b[0m\u001b[0;34m(\u001b[0m\u001b[0ms\u001b[0m\u001b[0;34m)\u001b[0m\u001b[0;34m)\u001b[0m\u001b[0;34m\u001b[0m\u001b[0;34m\u001b[0m\u001b[0m\n",
      "\u001b[0;32m/var/folders/vt/sdb7skj50blfnp70pjvzn9fw0000gn/T/ipykernel_17842/1469757113.py\u001b[0m in \u001b[0;36mtest_scheme_for_fixed_n\u001b[0;34m(process, f, n)\u001b[0m\n\u001b[1;32m      3\u001b[0m \u001b[0;34m\u001b[0m\u001b[0m\n\u001b[1;32m      4\u001b[0m     \u001b[0;32mfor\u001b[0m \u001b[0mm\u001b[0m \u001b[0;32min\u001b[0m \u001b[0mrange\u001b[0m\u001b[0;34m(\u001b[0m\u001b[0mM\u001b[0m\u001b[0;34m)\u001b[0m\u001b[0;34m:\u001b[0m\u001b[0;34m\u001b[0m\u001b[0;34m\u001b[0m\u001b[0m\n\u001b[0;32m----> 5\u001b[0;31m         \u001b[0mS_n_m\u001b[0m \u001b[0;34m=\u001b[0m \u001b[0mprocess\u001b[0m\u001b[0;34m(\u001b[0m\u001b[0mn\u001b[0m\u001b[0;34m)\u001b[0m\u001b[0;34m[\u001b[0m\u001b[0;36m1\u001b[0m\u001b[0;34m]\u001b[0m\u001b[0;34m\u001b[0m\u001b[0;34m\u001b[0m\u001b[0m\n\u001b[0m\u001b[1;32m      6\u001b[0m         \u001b[0mS_n_M\u001b[0m\u001b[0;34m[\u001b[0m\u001b[0mm\u001b[0m\u001b[0;34m]\u001b[0m \u001b[0;34m=\u001b[0m \u001b[0mS_n_m\u001b[0m\u001b[0;34m[\u001b[0m\u001b[0;34m-\u001b[0m\u001b[0;36m1\u001b[0m\u001b[0;34m]\u001b[0m\u001b[0;34m\u001b[0m\u001b[0;34m\u001b[0m\u001b[0m\n\u001b[1;32m      7\u001b[0m \u001b[0;34m\u001b[0m\u001b[0m\n",
      "\u001b[0;31mKeyError\u001b[0m: 1"
     ]
    }
   ],
   "source": [
    "s = test_scheme_for_fixed_n(S_X_process,function_for_scheme,n=4)\n",
    "print(np.mean(s))"
   ]
  },
  {
   "cell_type": "code",
   "execution_count": 269,
   "id": "1cea5c88",
   "metadata": {},
   "outputs": [
    {
     "ename": "KeyError",
     "evalue": "1",
     "output_type": "error",
     "traceback": [
      "\u001b[0;31m---------------------------------------------------------------------------\u001b[0m",
      "\u001b[0;31mKeyError\u001b[0m                                  Traceback (most recent call last)",
      "\u001b[0;32m/var/folders/vt/sdb7skj50blfnp70pjvzn9fw0000gn/T/ipykernel_17842/4206259725.py\u001b[0m in \u001b[0;36m<module>\u001b[0;34m\u001b[0m\n\u001b[0;32m----> 1\u001b[0;31m \u001b[0mtest_scheme_for_all_n\u001b[0m\u001b[0;34m(\u001b[0m\u001b[0mS_X_process\u001b[0m\u001b[0;34m,\u001b[0m\u001b[0mfunction_for_scheme\u001b[0m\u001b[0;34m,\u001b[0m\u001b[0mn\u001b[0m\u001b[0;34m=\u001b[0m\u001b[0;36m5\u001b[0m\u001b[0;34m)\u001b[0m\u001b[0;34m\u001b[0m\u001b[0;34m\u001b[0m\u001b[0m\n\u001b[0m",
      "\u001b[0;32m/var/folders/vt/sdb7skj50blfnp70pjvzn9fw0000gn/T/ipykernel_17842/1689047322.py\u001b[0m in \u001b[0;36mtest_scheme_for_all_n\u001b[0;34m(process, f, n)\u001b[0m\n\u001b[1;32m      6\u001b[0m \u001b[0;34m\u001b[0m\u001b[0m\n\u001b[1;32m      7\u001b[0m         \u001b[0;32mfor\u001b[0m \u001b[0mm\u001b[0m \u001b[0;32min\u001b[0m \u001b[0mrange\u001b[0m\u001b[0;34m(\u001b[0m\u001b[0mM\u001b[0m\u001b[0;34m)\u001b[0m\u001b[0;34m:\u001b[0m\u001b[0;34m\u001b[0m\u001b[0;34m\u001b[0m\u001b[0m\n\u001b[0;32m----> 8\u001b[0;31m             \u001b[0mS_n_m\u001b[0m \u001b[0;34m=\u001b[0m \u001b[0mprocess\u001b[0m\u001b[0;34m(\u001b[0m\u001b[0mn\u001b[0m\u001b[0;34m)\u001b[0m\u001b[0;34m[\u001b[0m\u001b[0;36m1\u001b[0m\u001b[0;34m]\u001b[0m\u001b[0;34m\u001b[0m\u001b[0;34m\u001b[0m\u001b[0m\n\u001b[0m\u001b[1;32m      9\u001b[0m             \u001b[0mS_n_M\u001b[0m\u001b[0;34m[\u001b[0m\u001b[0mm\u001b[0m\u001b[0;34m]\u001b[0m \u001b[0;34m=\u001b[0m \u001b[0mS_n_m\u001b[0m\u001b[0;34m[\u001b[0m\u001b[0;34m-\u001b[0m\u001b[0;36m1\u001b[0m\u001b[0;34m]\u001b[0m\u001b[0;34m\u001b[0m\u001b[0;34m\u001b[0m\u001b[0m\n\u001b[1;32m     10\u001b[0m \u001b[0;34m\u001b[0m\u001b[0m\n",
      "\u001b[0;31mKeyError\u001b[0m: 1"
     ]
    }
   ],
   "source": [
    "test_scheme_for_all_n(S_X_process,function_for_scheme,n=5)"
   ]
  },
  {
   "cell_type": "markdown",
   "id": "0961bd8f",
   "metadata": {},
   "source": [
    "## Main algorithm"
   ]
  },
  {
   "cell_type": "code",
   "execution_count": 270,
   "id": "e6d71cb5",
   "metadata": {},
   "outputs": [],
   "source": [
    "def scheme_8(f, result):\n",
    "    return main(S_V_process, f, result)"
   ]
  },
  {
   "cell_type": "code",
   "execution_count": 271,
   "id": "cf510c60",
   "metadata": {},
   "outputs": [],
   "source": [
    "def scheme_8_X(f):\n",
    "    U_M_n = np.zeros(n)\n",
    "    errors = np.zeros(n)\n",
    "\n",
    "    X_M_n = np.zeros(n)\n",
    "    \n",
    "    U_M_table = []\n",
    "    errors_table = []\n",
    "    time_table = []\n",
    "\n",
    "    for i in range(n):\n",
    "        t_0 = time()\n",
    "\n",
    "        V_n_M = np.zeros(M)\n",
    "        X_T_M = np.zeros(M)\n",
    "\n",
    "        for m in range(M):\n",
    "            V_n_m = S_V_process(i+1)[\"V_n\"]\n",
    "            V_n_M[m] = V_n_m[-1]\n",
    "            #print(V_n_m)\n",
    "            X_T_M[m] = sum(V_n_m[k]*T/i for k in range(i))\n",
    "            \n",
    "        f_X = f(X_T_M)\n",
    "        \n",
    "        U_M = np.mean(f_X)\n",
    "        U_M_n[i] = U_M\n",
    "\n",
    "        var_M = np.var(f_X)\n",
    "\n",
    "        error = 2*var_M/np.sqrt(M)\n",
    "        errors[i] = error\n",
    "\n",
    "        confidence_interval = [U_M - error, U_M + error]\n",
    "\n",
    "        t_1 = time()\n",
    "\n",
    "        if i in n_check_array:\n",
    "            U_M_table.append(U_M)\n",
    "            errors_table.append(error)\n",
    "            time_table.append(t_1 - t_0)\n",
    "\n",
    "    integers1toN = np.arange(1,n+1)\n",
    "    cum_sum_n = np.cumsum(U_M_n)/integers1toN\n",
    "\n",
    "    return {\"U_M_table\": U_M_table, \n",
    "            \"errors_table\": errors_table, \n",
    "            \"time_table\": time_table,\n",
    "            \"cum_sum_n\": cum_sum_n,\n",
    "            \"errors\": errors}"
   ]
  },
  {
   "cell_type": "code",
   "execution_count": 272,
   "id": "328a37a3",
   "metadata": {},
   "outputs": [],
   "source": [
    "def scheme_9(f, result):\n",
    "    return main(S_X_process, f, result)"
   ]
  },
  {
   "cell_type": "code",
   "execution_count": 273,
   "id": "e0a844d5",
   "metadata": {},
   "outputs": [],
   "source": [
    "def main(process,f,result=\"\"):\n",
    "    U_M_n = np.zeros(n)\n",
    "    errors = np.zeros(n)\n",
    "\n",
    "    U_M_table = []\n",
    "    errors_table = []\n",
    "    time_table = []\n",
    "\n",
    "    for i in range(n):\n",
    "        t_0 = time()\n",
    "\n",
    "        X_n_M = np.zeros(M)\n",
    "\n",
    "        for m in range(M):\n",
    "            X_n_m = process(i+1)[result]\n",
    "            X_n_M[m] = X_n_m[-1]\n",
    "            #print(X_n_m[-1])\n",
    "            #print()\n",
    "\n",
    "        U_M = np.mean(f(X_n_M))\n",
    "        U_M_n[i] = U_M\n",
    "\n",
    "        var_M = np.var(f(X_n_M))\n",
    "\n",
    "        error = 2*var_M/np.sqrt(M)\n",
    "        errors[i] = error\n",
    "\n",
    "        confidence_interval = [U_M - error, U_M + error]\n",
    "\n",
    "        t_1 = time()\n",
    "\n",
    "        if i in n_check_array:\n",
    "            U_M_table.append(U_M)\n",
    "            errors_table.append(error)\n",
    "            time_table.append(t_1 - t_0)\n",
    "\n",
    "    integers1toN = np.arange(1,n+1)\n",
    "    cum_sum_n = np.cumsum(U_M_n)/integers1toN\n",
    "\n",
    "    return {\"U_M_table\": U_M_table, \n",
    "            \"errors_table\": errors_table, \n",
    "            \"time_table\": time_table,\n",
    "            \"cum_sum_n\": cum_sum_n,\n",
    "            \"errors\": errors}"
   ]
  },
  {
   "cell_type": "markdown",
   "id": "33e08f1e",
   "metadata": {},
   "source": [
    "### Auxilary functions for displaying the results"
   ]
  },
  {
   "cell_type": "code",
   "execution_count": 274,
   "id": "f078bb10",
   "metadata": {},
   "outputs": [],
   "source": [
    "def plot_estimations(scheme_8_data, scheme_9_data, title=\"E[f(S,X)]\", ref_value=None):\n",
    "    integers1toN = np.arange(1,n+1)\n",
    "    \n",
    "    fig, ax = plt.subplots()\n",
    "    \n",
    "    ax.plot(integers1toN, scheme_8_data['cum_sum_n'], label='Scheme (8)', color=\"blue\")\n",
    "    ax.fill_between(integers1toN, scheme_8_data['cum_sum_n'] - scheme_8_data['errors'], \n",
    "                    scheme_8_data['cum_sum_n'] + scheme_8_data['errors'], label='Confidence interval', \n",
    "                    color='blue', alpha=.1)\n",
    "    \n",
    "    ax.plot(integers1toN, scheme_9_data['cum_sum_n'], label='Scheme (9)', color=\"orange\")\n",
    "    ax.fill_between(integers1toN, scheme_9_data['cum_sum_n'] - scheme_9_data['errors'], \n",
    "                    scheme_9_data['cum_sum_n'] + scheme_9_data['errors'], label='Confidence interval', \n",
    "                    color='orange', alpha=.1)\n",
    "\n",
    "    if ref_value is not None:\n",
    "        ax.axhline(ref_value, label='reference value', color=\"green\", linestyle='--')\n",
    "    \n",
    "    ax.legend(loc=1)\n",
    "    \n",
    "    plt.title(f\"Estimation of {title}\")\n",
    "    plt.xlabel(\"Number of steps\")\n",
    "    plt.ylabel(\"Estimation\")\n",
    "    \n",
    "    plt.show()"
   ]
  },
  {
   "cell_type": "code",
   "execution_count": 275,
   "id": "f2eae198",
   "metadata": {},
   "outputs": [],
   "source": [
    "def show_numerical_results_table(scheme_8_results, scheme_9_results, ref_value):\n",
    "    #TODO init constants\n",
    "    table_size = np.size(scheme_8_results[\"U_M_table\"])\n",
    "    \n",
    "    print(\"\\tEstimation of E[X_T] with Scheme (8) (left) and Scheme (9) (right).\")\n",
    "    print()\n",
    "    print(\"\\tMean Value\\t Stat.Error\\t Comp.Time\\t||\\t Mean Value\\t Stat.Error\\t Comp.Time\")\n",
    "    print(f\"Ref\\t {ref_value}\")\n",
    "    for k in range(table_size):\n",
    "        print(f\"n={n_check_array[k]}\\t\",\n",
    "        f\"{scheme_8_results['U_M_table'][k]:f}\\t\",\n",
    "        f\"{scheme_8_results['errors_table'][k]:f}\\t\",\n",
    "        f\"{scheme_8_results['time_table'][k]:f}\\t||\\t\",\n",
    "        f\"{scheme_9_results['U_M_table'][k]:f}\\t\",\n",
    "        f\"{scheme_9_results['errors_table'][k]:f}\\t\",\n",
    "        f\"{scheme_9_results['time_table'][k]:f}\")\n"
   ]
  },
  {
   "cell_type": "markdown",
   "id": "4c61a4ba",
   "metadata": {},
   "source": [
    "# Numerical results"
   ]
  },
  {
   "cell_type": "code",
   "execution_count": 276,
   "id": "3cea51e0",
   "metadata": {},
   "outputs": [],
   "source": [
    "n = 10"
   ]
  },
  {
   "cell_type": "markdown",
   "id": "7e8c2951",
   "metadata": {},
   "source": [
    "## _European call_ maximum(S_T-K,0)"
   ]
  },
  {
   "cell_type": "code",
   "execution_count": 277,
   "id": "e710c914",
   "metadata": {},
   "outputs": [],
   "source": [
    "scheme_8_results = scheme_8(european_call_options, \"S_n\")\n",
    "scheme_9_results = scheme_9(european_call_options, \"S_n\")"
   ]
  },
  {
   "cell_type": "code",
   "execution_count": 278,
   "id": "2f9405ba",
   "metadata": {},
   "outputs": [
    {
     "data": {
      "image/png": "[encoded data removed]",
      "text/plain": [
       "<Figure size 432x288 with 1 Axes>"
      ]
     },
     "metadata": {
      "needs_background": "light"
     },
     "output_type": "display_data"
    },
    {
     "name": "stdout",
     "output_type": "stream",
     "text": [
      "\tEstimation of E[X_T] with Scheme (8) (left) and Scheme (9) (right).\n",
      "\n",
      "\tMean Value\t Stat.Error\t Comp.Time\t||\t Mean Value\t Stat.Error\t Comp.Time\n",
      "Ref\t 0.056832\n",
      "n=4\t 1.784750\t 0.000000\t 0.001379\t||\t 0.197231\t 0.000000\t 0.002990\n",
      "n=6\t 1.711298\t 0.000000\t 0.002252\t||\t 0.045828\t 0.000000\t 0.003632\n",
      "n=8\t 1.395038\t 0.000000\t 0.002694\t||\t 0.000000\t 0.000000\t 0.005297\n"
     ]
    }
   ],
   "source": [
    "plot_estimations(scheme_8_results, scheme_9_results, \"E[maximum(S_T-K,0)]\", european_call_ref)\n",
    "show_numerical_results_table(scheme_8_results, scheme_9_results, european_call_ref)"
   ]
  },
  {
   "cell_type": "markdown",
   "id": "48931099",
   "metadata": {},
   "source": [
    "## _Asian option_ maximum(A_T-K,0)"
   ]
  },
  {
   "cell_type": "code",
   "execution_count": 395,
   "id": "fb5d48ee",
   "metadata": {},
   "outputs": [],
   "source": [
    "scheme_8_results = scheme_8(asian_options, \"S_n\")\n",
    "scheme_9_results = scheme_9(asian_options, \"S_n\")"
   ]
  },
  {
   "cell_type": "code",
   "execution_count": 396,
   "id": "aad72114",
   "metadata": {},
   "outputs": [
    {
     "data": {
      "image/png": "[encoded data removed]",
      "text/plain": [
       "<Figure size 432x288 with 1 Axes>"
      ]
     },
     "metadata": {
      "needs_background": "light"
     },
     "output_type": "display_data"
    },
    {
     "name": "stdout",
     "output_type": "stream",
     "text": [
      "\tEstimation of E[X_T] with Scheme (8) (left) and Scheme (9) (right).\n",
      "\n",
      "\tMean Value\t Stat.Error\t Comp.Time\t||\t Mean Value\t Stat.Error\t Comp.Time\n",
      "Ref\t -\n",
      "n=4\t 1.566145\t 0.000000\t 0.026864\t||\t 0.020518\t 0.000000\t 0.011647\n",
      "n=6\t 1.526086\t 0.000000\t 0.043512\t||\t 0.000000\t 0.000000\t 0.017951\n",
      "n=8\t 1.479097\t 0.000000\t 0.067770\t||\t 0.028728\t 0.000000\t 0.025985\n"
     ]
    }
   ],
   "source": [
    "plot_estimations(scheme_8_results, scheme_9_results, \"E[maximum(A_T-K,0)]\")\n",
    "show_numerical_results_table(scheme_8_results, scheme_9_results, \"-\")"
   ]
  },
  {
   "cell_type": "markdown",
   "id": "b3e77bfd",
   "metadata": {},
   "source": [
    "## _Lookback option_ maximum(M_T-K,0)"
   ]
  },
  {
   "cell_type": "code",
   "execution_count": 175,
   "id": "92a485c7",
   "metadata": {},
   "outputs": [],
   "source": [
    "scheme_8_results = scheme_8(lookback_options, \"S_n\")\n",
    "scheme_9_results = scheme_9(lookback_options, \"S_n\")"
   ]
  },
  {
   "cell_type": "code",
   "execution_count": 176,
   "id": "35a1e7c4",
   "metadata": {},
   "outputs": [
    {
     "data": {
      "image/png": "[encoded data removed]",
      "text/plain": [
       "<Figure size 432x288 with 1 Axes>"
      ]
     },
     "metadata": {
      "needs_background": "light"
     },
     "output_type": "display_data"
    },
    {
     "name": "stdout",
     "output_type": "stream",
     "text": [
      "\tEstimation of E[X_T] with Scheme (8) (left) and Scheme (9) (right). The computation time is in seconds.\n",
      "\n",
      "\tMean Value\t Stat.Error\t Comp.Time\t||\t Mean Value\t Stat.Error\t Comp.Time\n",
      "Ref\t -\n",
      "n=2\t 2.386904\t 0.000000\t 0.019964\t||\t 0.000000\t 0.000000\t 0.006571\n",
      "n=4\t 2.483802\t 0.000000\t 0.026723\t||\t 0.000000\t 0.000000\t 0.011996\n"
     ]
    }
   ],
   "source": [
    "plot_estimations(scheme_8_results, scheme_9_results, \"E[maximum(M_T-K,0)]\")\n",
    "show_numerical_results_table(scheme_8_results, scheme_9_results, \"-\")"
   ]
  },
  {
   "cell_type": "markdown",
   "id": "ad0ca986",
   "metadata": {},
   "source": [
    "## _Variance swap price_ E[X_t]"
   ]
  },
  {
   "cell_type": "code",
   "execution_count": 412,
   "id": "c1659826",
   "metadata": {},
   "outputs": [],
   "source": [
    "n=10\n",
    "\n",
    "scheme_8_results = scheme_8_X(variance_swap_price)\n",
    "scheme_9_results = scheme_9(variance_swap_price, \"X_n\")"
   ]
  },
  {
   "cell_type": "code",
   "execution_count": 418,
   "id": "bce63f28",
   "metadata": {},
   "outputs": [
    {
     "data": {
      "image/png": "[encoded data removed]",
      "text/plain": [
       "<Figure size 432x288 with 1 Axes>"
      ]
     },
     "metadata": {
      "needs_background": "light"
     },
     "output_type": "display_data"
    },
    {
     "name": "stdout",
     "output_type": "stream",
     "text": [
      "\tEstimation of E[X_T] with Scheme (8) (left) and Scheme (9) (right).\n",
      "\n",
      "\tMean Value\t Stat.Error\t Comp.Time\t||\t Mean Value\t Stat.Error\t Comp.Time\n",
      "Ref\t 0.028295\n",
      "n=4\t 0.000231\t 0.000000\t 0.027444\t||\t 0.011418\t 0.000026\t 0.158040\n",
      "n=6\t 0.002573\t 0.000000\t 0.043744\t||\t 0.015309\t 0.000049\t 0.216451\n",
      "n=8\t 0.003788\t 0.000000\t 0.068099\t||\t 0.013053\t 0.000054\t 0.280752\n",
      "n=10\t 0.004539\t 0.000000\t 0.099647\t||\t 0.012740\t 0.000038\t 0.345835\n",
      "n=12\t 0.005054\t 0.000000\t 0.134705\t||\t 0.013645\t 0.000060\t 0.419293\n",
      "n=14\t 0.005430\t 0.000000\t 0.176174\t||\t 0.013263\t 0.000062\t 0.480284\n",
      "n=16\t 0.005719\t 0.000000\t 0.221301\t||\t 0.014052\t 0.000088\t 0.551789\n",
      "n=18\t 0.005948\t 0.000000\t 0.273214\t||\t 0.013055\t 0.000065\t 0.616193\n"
     ]
    }
   ],
   "source": [
    "plot_estimations(scheme_8_results, scheme_8_results, \"E[X_T]\", variance_swap_price_ref)\n",
    "show_numerical_results_table(scheme_8_results, scheme_9_results, variance_swap_price_ref)"
   ]
  },
  {
   "cell_type": "markdown",
   "id": "cdd926fb",
   "metadata": {},
   "source": [
    "## _Variance call price_ E[maximum(X_T-V_0,0)]"
   ]
  },
  {
   "cell_type": "code",
   "execution_count": 416,
   "id": "a58c6220",
   "metadata": {},
   "outputs": [],
   "source": [
    "n=20\n",
    "scheme_8_results = scheme_8_X(variance_call_price)\n",
    "scheme_9_results = scheme_9(variance_call_price, \"X_n\")"
   ]
  },
  {
   "cell_type": "code",
   "execution_count": 417,
   "id": "6ee2e304",
   "metadata": {},
   "outputs": [
    {
     "data": {
      "image/png": "[encoded data removed]",
      "text/plain": [
       "<Figure size 432x288 with 1 Axes>"
      ]
     },
     "metadata": {
      "needs_background": "light"
     },
     "output_type": "display_data"
    },
    {
     "name": "stdout",
     "output_type": "stream",
     "text": [
      "\tEstimation of E[X_T] with Scheme (8) (left) and Scheme (9) (right).\n",
      "\n",
      "\tMean Value\t Stat.Error\t Comp.Time\t||\t Mean Value\t Stat.Error\t Comp.Time\n",
      "Ref\t 0.013517\n",
      "n=4\t 0.000231\t 0.000000\t 0.027444\t||\t 0.011418\t 0.000026\t 0.158040\n",
      "n=6\t 0.002573\t 0.000000\t 0.043744\t||\t 0.015309\t 0.000049\t 0.216451\n",
      "n=8\t 0.003788\t 0.000000\t 0.068099\t||\t 0.013053\t 0.000054\t 0.280752\n",
      "n=10\t 0.004539\t 0.000000\t 0.099647\t||\t 0.012740\t 0.000038\t 0.345835\n",
      "n=12\t 0.005054\t 0.000000\t 0.134705\t||\t 0.013645\t 0.000060\t 0.419293\n",
      "n=14\t 0.005430\t 0.000000\t 0.176174\t||\t 0.013263\t 0.000062\t 0.480284\n",
      "n=16\t 0.005719\t 0.000000\t 0.221301\t||\t 0.014052\t 0.000088\t 0.551789\n",
      "n=18\t 0.005948\t 0.000000\t 0.273214\t||\t 0.013055\t 0.000065\t 0.616193\n"
     ]
    }
   ],
   "source": [
    "plot_estimations(scheme_8_results, scheme_9_results, \"E[maximum(X_T-V_0,0)]\", variance_swap_price_ref)\n",
    "show_numerical_results_table(scheme_8_results, scheme_9_results, variance_call_price_ref)"
   ]
  },
  {
   "cell_type": "code",
   "execution_count": null,
   "id": "b10fdbb6",
   "metadata": {},
   "outputs": [],
   "source": []
  }
 ],
 "metadata": {
  "kernelspec": {
   "display_name": "Python 3 (ipykernel)",
   "language": "python",
   "name": "python3"
  },
  "language_info": {
   "codemirror_mode": {
    "name": "ipython",
    "version": 3
   },
   "file_extension": ".py",
   "mimetype": "text/x-python",
   "name": "python",
   "nbconvert_exporter": "python",
   "pygments_lexer": "ipython3",
   "version": "3.9.7"
  }
 },
 "nbformat": 4,
 "nbformat_minor": 5
}
