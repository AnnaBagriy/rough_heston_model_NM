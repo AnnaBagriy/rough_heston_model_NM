{
 "cells": [
  {
   "cell_type": "code",
   "execution_count": 1,
   "id": "42acc8d7",
   "metadata": {},
   "outputs": [],
   "source": [
    "import numpy as np\n",
    "import matplotlib.pyplot as plt\n",
    "\n",
    "from scipy.special import gamma"
   ]
  },
  {
   "cell_type": "markdown",
   "id": "1645b7fd",
   "metadata": {},
   "source": [
    "# Risky asset price under the risk-neutral probability & Volatility\n",
    "_Scheme (6)_"
   ]
  },
  {
   "cell_type": "code",
   "execution_count": 2,
   "id": "0f6e5e17",
   "metadata": {},
   "outputs": [],
   "source": [
    "M = 10**3\n",
    "n = 10\n",
    "\n",
    "l = 0.3\n",
    "nu = 0.3\n",
    "theta = 0.02\n",
    "rho = -0.7\n",
    "H = 0.1\n",
    "\n",
    "V_0 = 0.02\n",
    "S_0 = 1\n",
    "Y_0 = np.log(S_0)"
   ]
  },
  {
   "cell_type": "code",
   "execution_count": 3,
   "id": "285f2c51",
   "metadata": {},
   "outputs": [],
   "source": [
    "t_0 = 0\n",
    "T = 1"
   ]
  },
  {
   "cell_type": "code",
   "execution_count": 4,
   "id": "253c115d",
   "metadata": {},
   "outputs": [],
   "source": [
    "def K_t(t):\n",
    "    return t**(H-0.5)/gamma(H+0.5) #check"
   ]
  },
  {
   "cell_type": "code",
   "execution_count": 5,
   "id": "875e55b2",
   "metadata": {},
   "outputs": [],
   "source": [
    "#t_delta = T/n\n",
    "#t = [k*t_delta for k in range(n)]\n",
    "#\n",
    "#K_t_delta = np.zeros((n,n))\n",
    "#for k in range(n):\n",
    "#    for i in range(k):\n",
    "#        K_t_delta[k,i] = K_t(t[k]-t[i])"
   ]
  },
  {
   "cell_type": "code",
   "execution_count": 6,
   "id": "9a316cda",
   "metadata": {},
   "outputs": [],
   "source": [
    "def S_V_process(n):\n",
    "\n",
    "    t_delta = T/n\n",
    "    t = [k*t_delta for k in range(n)]\n",
    "\n",
    "    K_t_delta = np.zeros((n,n))\n",
    "    for k in range(n):\n",
    "        for i in range(k):\n",
    "            K_t_delta[k,i] = K_t(t[k]-t[i])\n",
    "\n",
    "    G1 = np.random.randn(n)\n",
    "    G2 = np.random.randn(n)\n",
    "\n",
    "    W = np.zeros(n)\n",
    "    W_orth = np.zeros(n)\n",
    "\n",
    "    for i in range(n-1):\n",
    "        W[i+1] = W[i] + np.sqrt(t[i+1] - t[i])*G1[i]\n",
    "        W_orth[i+1] = W[i] + np.sqrt(t[i+1] - t[i])*G2[i]\n",
    "    \n",
    "    Y_n = np.zeros(n)\n",
    "    V_n = np.zeros(n)\n",
    "\n",
    "    S_n = np.zeros(n)\n",
    "\n",
    "    S_n[0] = np.exp(Y_0)\n",
    "    \n",
    "    Y_sum = 0\n",
    "    V_sum = 0\n",
    "    \n",
    "    for k in range(1,n):\n",
    "        Y_sum = Y_sum + (-0.5*V_n[k-1] + (t[k] - t[k-1]) + rho*np.sqrt(np.maximum(V_n[k-1],0))*(W[k] - W[k-1]) //\n",
    "                      + np.sqrt(1 - rho**2)*np.sqrt(np.maximum(V_n[k-1],0))*(W_orth[k] - W_orth[k-1]))\n",
    "        Y_n[k] = Y_0 + Y_sum\n",
    "\n",
    "        for i in range(k):\n",
    "            V_sum = V_sum + K_t_delta[k,i]*(theta - l*np.maximum(V_n[i],0))*(t[i+1] - t[i]) + K_t_delta[k,i]*nu*np.sqrt(np.maximum(V_n[i],0))*(W[i+1] - W[i])\n",
    "        \n",
    "        #V_sum = sum(K_t_delta[k,i]*(theta - l*np.maximum(V_n[i],0))*(t[i+1] - t[i]) //\n",
    "        #              + K_t_delta[k,i]*nu*np.sqrt(np.maximum(V_n[i],0))*(W[i+1] - W[i]) for i in range(k))\n",
    "        \n",
    "        V_n[k] = V_0 + V_sum\n",
    "\n",
    "        S_n[k] = np.exp(Y_n[k])\n",
    "   \n",
    "    return S_n"
   ]
  },
  {
   "cell_type": "code",
   "execution_count": 7,
   "id": "fad0a614",
   "metadata": {},
   "outputs": [],
   "source": [
    "K = 1\n",
    "\n",
    "def european_call_options(x):\n",
    "    return np.maximum(x-K,0)\n",
    "\n",
    "def asian_options(x):\n",
    "    A_T = T*np.mean(x)\n",
    "    \n",
    "    return np.maximum(A_t-K,0)\n",
    "\n",
    "def lookback_options(x):\n",
    "    M_T = np.max(x)\n",
    "    \n",
    "    return np.maximum(M_T-K,0)"
   ]
  },
  {
   "cell_type": "code",
   "execution_count": 8,
   "id": "866ba7ff",
   "metadata": {},
   "outputs": [],
   "source": [
    "def variance_swap_price(x):\n",
    "    return x\n",
    "\n",
    "def variance_call_price(x):\n",
    "    return np.maximum(x-V_0,0)"
   ]
  },
  {
   "cell_type": "code",
   "execution_count": 9,
   "id": "2adc7af0",
   "metadata": {},
   "outputs": [],
   "source": [
    "function_8_scheme = european_call_options"
   ]
  },
  {
   "cell_type": "code",
   "execution_count": 10,
   "id": "8c501a42",
   "metadata": {},
   "outputs": [
    {
     "name": "stdout",
     "output_type": "stream",
     "text": [
      "E = 1.2494014824710318\n",
      "Var = 0.4849632418922803\n",
      "[1.18805794543748, 1.3107450195045836]\n"
     ]
    }
   ],
   "source": [
    "S_n_M = np.zeros(M)\n",
    "\n",
    "for m in range(M):\n",
    "    S_n_m = S_V_process(n)\n",
    "    S_n_M[m] = S_n_m[-1]\n",
    "\n",
    "\n",
    "U_M = np.mean(function_8_scheme(S_n_M))\n",
    "var_M = np.var(function_8_scheme(S_n_M))\n",
    "\n",
    "error = 2*var_M/np.sqrt(M)\n",
    "confidence_interval = [U_M - 2*error, U_M + 2*error]\n",
    "\n",
    "print(\"E =\", U_M)\n",
    "print(\"Var =\", var_M)\n",
    "print(confidence_interval)\n",
    "#print(S_n_M)"
   ]
  },
  {
   "cell_type": "code",
   "execution_count": 11,
   "id": "bb6e7a7c",
   "metadata": {},
   "outputs": [
    {
     "data": {
      "text/plain": [
       "[<matplotlib.lines.Line2D at 0x7fc45035fbe0>]"
      ]
     },
     "execution_count": 11,
     "metadata": {},
     "output_type": "execute_result"
    },
    {
     "data": {
      "image/png": "[encoded data removed]",
      "text/plain": [
       "<Figure size 432x288 with 1 Axes>"
      ]
     },
     "metadata": {
      "needs_background": "light"
     },
     "output_type": "display_data"
    }
   ],
   "source": [
    "n = 20\n",
    "\n",
    "U_M_n = np.zeros(n)\n",
    "\n",
    "for i in range(n):\n",
    "    S_n_M = np.zeros(M)\n",
    "\n",
    "    for m in range(M):\n",
    "        S_n_m = S_V_process(n)\n",
    "        S_n_M[m] = S_n_m[-1]\n",
    "        \n",
    "    U_M = np.mean(function_8_scheme(S_n_M))\n",
    "    U_M_n[i] = U_M\n",
    "\n",
    "integers1toN = np.arange(1,n+1)\n",
    "cum_sum_n = np.cumsum(U_M_n)/integers1toN\n",
    "\n",
    "plt.plot(integers1toN, cum_sum_n, color=\"b\")"
   ]
  },
  {
   "cell_type": "code",
   "execution_count": 13,
   "id": "dbc7dd85",
   "metadata": {},
   "outputs": [
    {
     "data": {
      "text/plain": [
       "[<matplotlib.lines.Line2D at 0x7fc42001e850>]"
      ]
     },
     "execution_count": 13,
     "metadata": {},
     "output_type": "execute_result"
    },
    {
     "data": {
      "image/png": "[encoded data removed]",
      "text/plain": [
       "<Figure size 432x288 with 1 Axes>"
      ]
     },
     "metadata": {
      "needs_background": "light"
     },
     "output_type": "display_data"
    }
   ],
   "source": [
    "integers1toM = np.arange(1,M+1)\n",
    "cum_sum = np.cumsum(function_8_scheme(S_n_M))/integers1toM\n",
    "\n",
    "plt.plot(integers1toM, cum_sum, color=\"b\")"
   ]
  },
  {
   "cell_type": "markdown",
   "id": "37244ad9",
   "metadata": {},
   "source": [
    "# Integrated variance formulation (integrated-rough Heston model)\n",
    "_Scheme (7)_"
   ]
  },
  {
   "cell_type": "code",
   "execution_count": 19,
   "id": "2dbcc65b",
   "metadata": {},
   "outputs": [],
   "source": [
    "def S_X_process(n):\n",
    "    \n",
    "    t_delta = T/n\n",
    "    t = [k*t_delta for k in range(n)]\n",
    "    \n",
    "    Y_n = np.zeros(n)\n",
    "    X_n = np.zeros(n)\n",
    "    X_n_max = np.zeros(n)\n",
    "    \n",
    "    S_n = np.zeros(n)\n",
    "\n",
    "    M_n = np.zeros(n)\n",
    "    M_n_orth = np.zeros(n)\n",
    "\n",
    "    S_n[0] = np.exp(Y_0)\n",
    "        \n",
    "    Z = np.random.normal(0,1,n)\n",
    "    Z_orth = np.random.normal(0,1,n)\n",
    "    \n",
    "    for k in range(n):\n",
    "        X_n_max[k] = np.max(X_n)\n",
    "\n",
    "        for i in range(1,k):\n",
    "            M_n[k] = M_n[k] + np.sqrt(X_n_max[i] - X_n_max[i-1])*Z[i]\n",
    "            M_n_orth[k] = M_n_orth[k] + np.sqrt(X_n_max[i] - X_n_max[i-1])*Z_orth[i]\n",
    "\n",
    "        Y_n[k] = Y_0 - 0.5*X_n_max[k] + rho*M_n[k] + np.sqrt(1 - rho**2)*M_n_orth[k]\n",
    "\n",
    "        X_sum = 0\n",
    "        for i in range(k):\n",
    "            X_sum = X_sum + K_t(t[k] - t[i])*(theta*t[i] - l*X_n_max[i] + nu*M_n[i])*(t[i+1]-t[i])\n",
    "\n",
    "        X_n[k] = V_0*t[k] + X_sum\n",
    "        \n",
    "        S_n[k] = np.exp(Y_n[k])\n",
    "    \n",
    "    return (S_n, X_n)"
   ]
  },
  {
   "cell_type": "code",
   "execution_count": 20,
   "id": "1c7b7a51",
   "metadata": {},
   "outputs": [],
   "source": [
    "function_9_scheme = variance_swap_price"
   ]
  },
  {
   "cell_type": "code",
   "execution_count": 21,
   "id": "4d666173",
   "metadata": {},
   "outputs": [
    {
     "name": "stdout",
     "output_type": "stream",
     "text": [
      "E = 0.025791286935888426\n",
      "Var = 0.0005735167025783063\n",
      "[0.025718742173636552, 0.0258638316981403]\n"
     ]
    }
   ],
   "source": [
    "X_n_M = np.zeros(M)\n",
    "\n",
    "for m in range(M):\n",
    "    X_n_m = S_X_process(n)[1]\n",
    "    X_n_M[m] = X_n_m[-1]\n",
    "\n",
    "U_M = np.mean(function_9_scheme(X_n_M))\n",
    "var_M = np.var(function_9_scheme(X_n_M))\n",
    "\n",
    "error = 2*var_M/np.sqrt(M)\n",
    "confidence_interval = [U_M - 2*error, U_M + 2*error]\n",
    "\n",
    "print(\"E =\", U_M)\n",
    "print(\"Var =\", var_M)\n",
    "print(confidence_interval)"
   ]
  },
  {
   "cell_type": "code",
   "execution_count": 17,
   "id": "22f670fa",
   "metadata": {},
   "outputs": [
    {
     "data": {
      "text/plain": [
       "[<matplotlib.lines.Line2D at 0x7fc440060ee0>]"
      ]
     },
     "execution_count": 17,
     "metadata": {},
     "output_type": "execute_result"
    },
    {
     "data": {
      "image/png": "[encoded data removed]",
      "text/plain": [
       "<Figure size 432x288 with 1 Axes>"
      ]
     },
     "metadata": {
      "needs_background": "light"
     },
     "output_type": "display_data"
    }
   ],
   "source": [
    "integers1toM = np.arange(1,M+1)\n",
    "cum_sum = np.cumsum(function_9_scheme(X_n_M))/integers1toM\n",
    "\n",
    "plt.plot(integers1toM, cum_sum, color=\"b\")"
   ]
  },
  {
   "cell_type": "code",
   "execution_count": 22,
   "id": "328a37a3",
   "metadata": {},
   "outputs": [
    {
     "data": {
      "text/plain": [
       "[<matplotlib.lines.Line2D at 0x7fc4400b50a0>]"
      ]
     },
     "execution_count": 22,
     "metadata": {},
     "output_type": "execute_result"
    },
    {
     "data": {
      "image/png": "[encoded data removed]",
      "text/plain": [
       "<Figure size 432x288 with 1 Axes>"
      ]
     },
     "metadata": {
      "needs_background": "light"
     },
     "output_type": "display_data"
    }
   ],
   "source": [
    "n = 25\n",
    "\n",
    "U_M_n = np.zeros(n)\n",
    "\n",
    "for i in range(n):\n",
    "    X_n_M = np.zeros(M)\n",
    "\n",
    "    for m in range(M):\n",
    "        X_n_m = S_X_process(i+1)[1]\n",
    "        X_n_M[m] = X_n_m[-1]\n",
    "        \n",
    "    U_M = np.mean(function_9_scheme(X_n_M))\n",
    "    U_M_n[i] = U_M\n",
    "\n",
    "integers1toN = np.arange(1,n+1)\n",
    "cum_sum_n = np.cumsum(U_M_n)/integers1toN\n",
    "\n",
    "plt.plot(integers1toN, cum_sum_n, color=\"b\")"
   ]
  },
  {
   "cell_type": "code",
   "execution_count": null,
   "id": "f3d1e9e6",
   "metadata": {},
   "outputs": [],
   "source": []
  }
 ],
 "metadata": {
  "kernelspec": {
   "display_name": "Python 3 (ipykernel)",
   "language": "python",
   "name": "python3"
  },
  "language_info": {
   "codemirror_mode": {
    "name": "ipython",
    "version": 3
   },
   "file_extension": ".py",
   "mimetype": "text/x-python",
   "name": "python",
   "nbconvert_exporter": "python",
   "pygments_lexer": "ipython3",
   "version": "3.9.7"
  }
 },
 "nbformat": 4,
 "nbformat_minor": 5
}
