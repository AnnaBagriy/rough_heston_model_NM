{
 "cells": [
  {
   "cell_type": "code",
   "execution_count": 1,
   "id": "9fbaca49",
   "metadata": {},
   "outputs": [],
   "source": [
    "import numpy as np\n",
    "import matplotlib.pyplot as plt\n",
    "import scipy.integrate as integrate\n",
    "\n",
    "from scipy.special import gamma\n",
    "from tabulate import tabulate\n",
    "from time import time"
   ]
  },
  {
   "cell_type": "code",
   "execution_count": 2,
   "id": "09616931",
   "metadata": {},
   "outputs": [],
   "source": [
    "european_call_ref = 0.056832\n",
    "variance_swap_price_ref = 0.028295\n",
    "variance_call_price_ref = 0.013517"
   ]
  },
  {
   "cell_type": "code",
   "execution_count": 3,
   "id": "b6a3979c",
   "metadata": {},
   "outputs": [],
   "source": [
    "S_n_const = \"S_n\"\n",
    "V_n_const = \"V_n\"\n",
    "X_n_const = \"X_n\""
   ]
  },
  {
   "cell_type": "code",
   "execution_count": 310,
   "id": "9a9aa472",
   "metadata": {},
   "outputs": [],
   "source": [
    "M = 1\n",
    "\n",
    "l = 0.3\n",
    "nu = 0.3\n",
    "theta = 0.02\n",
    "rho = -0.7\n",
    "H = 0.1\n",
    "\n",
    "K = 1\n",
    "\n",
    "V_0 = 0.02\n",
    "S_0 = 1\n",
    "Y_0 = np.log(S_0)"
   ]
  },
  {
   "cell_type": "code",
   "execution_count": 311,
   "id": "47d78c22",
   "metadata": {},
   "outputs": [],
   "source": [
    "t_0 = 0\n",
    "T = 1"
   ]
  },
  {
   "cell_type": "code",
   "execution_count": 356,
   "id": "5e5d4f50",
   "metadata": {},
   "outputs": [],
   "source": [
    "number_of_iterations = 8\n",
    "n_initial = 4"
   ]
  },
  {
   "cell_type": "code",
   "execution_count": 313,
   "id": "3525439a",
   "metadata": {},
   "outputs": [],
   "source": [
    "def K_t(t):\n",
    "    #return np.log(1+1/(t+1))\n",
    "\n",
    "    if t == 0:\n",
    "        return 0\n",
    "    \n",
    "    return t**(H-0.5)/gamma(H+0.5)"
   ]
  },
  {
   "cell_type": "code",
   "execution_count": 314,
   "id": "511a60f9",
   "metadata": {},
   "outputs": [
    {
     "data": {
      "image/png": "[encoded data removed]",
      "text/plain": [
       "<Figure size 432x288 with 1 Axes>"
      ]
     },
     "metadata": {
      "needs_background": "light"
     },
     "output_type": "display_data"
    }
   ],
   "source": [
    "n = 100\n",
    "t = [k*T/(n-1) for k in range(n)]\n",
    "K_arr = []\n",
    "\n",
    "for k in range(np.size(t)):\n",
    "    K_arr.append(K_t(t[k]))\n",
    "    \n",
    "    if K_arr[k]<0:\n",
    "        print(f\"Problem is here: K({t[k]})={K_arr[k]}\")\n",
    "    \n",
    "plt.plot(t,K_arr)\n",
    "plt.show()"
   ]
  },
  {
   "cell_type": "code",
   "execution_count": 368,
   "id": "fd1827b7",
   "metadata": {},
   "outputs": [],
   "source": [
    "def european_call_options(x):\n",
    "    if type(x) != np.ndarray and type(x) != list:\n",
    "        raise Exception(f\"type(x) != list\\n type(x)={type(x)}\")\n",
    "        \n",
    "    #return x[-1]\n",
    "    return np.maximum(x[-1]-K,0)\n",
    "\n",
    "def asian_options(x):\n",
    "    A_T = T*np.mean(x)\n",
    "    \n",
    "    return np.maximum(A_T-K,0)\n",
    "\n",
    "def lookback_options(x):\n",
    "    M_T = np.max(x)\n",
    "    \n",
    "    return np.maximum(M_T-K,0)\n",
    "\n",
    "def variance_swap_price(x):\n",
    "    if type(x) is np.ndarray or type(x) is list:\n",
    "        return x[-1]\n",
    "        \n",
    "    return x\n",
    "\n",
    "def variance_call_price(x):\n",
    "    if type(x) is np.ndarray or type(x) is list:\n",
    "        return np.maximum(x[-1]-V_0,0)\n",
    "        \n",
    "    return np.maximum(x-V_0,0)"
   ]
  },
  {
   "cell_type": "code",
   "execution_count": 316,
   "id": "fb4cf2b5",
   "metadata": {},
   "outputs": [],
   "source": [
    "def plot_estimations(scheme_8_data, scheme_9_data, title=\"E[f(S,X)]\", ref_value=None):\n",
    "    integers1toN = scheme_8_data['n']\n",
    "    \n",
    "    fig, ax = plt.subplots()\n",
    "\n",
    "    s = 1 #todo\n",
    "    \n",
    "    ax.plot(integers1toN, scheme_8_data['U_M'], label='Scheme (8)', color=\"blue\")\n",
    "    ax.fill_between(integers1toN, np.array(scheme_8_data['U_M']) - s*np.array(scheme_8_data['error']), \n",
    "                    np.array(scheme_8_data['U_M']) + s*np.array(scheme_8_data['error']), label='Confidence interval', \n",
    "                    color='blue', alpha=.1)\n",
    "    \n",
    "    ax.plot(integers1toN, scheme_9_data['U_M'], label='Scheme (9)', color=\"orange\")\n",
    "    ax.fill_between(integers1toN, np.array(scheme_9_data['U_M']) - s*np.array(scheme_9_data['error']), \n",
    "                    np.array(scheme_9_data['U_M']) + s*np.array(scheme_9_data['error']), label='Confidence interval', \n",
    "                    color='orange', alpha=.1)\n",
    "\n",
    "    if ref_value != None:\n",
    "        ax.axhline(ref_value, label='reference value', color=\"green\", linestyle='--')\n",
    "    \n",
    "    ax.legend(loc=1)\n",
    "    \n",
    "    plt.title(f\"Estimation of {title}\")\n",
    "    plt.xlabel(\"Number of steps\")\n",
    "    plt.ylabel(\"Estimation\")\n",
    "    \n",
    "    plt.show()\n",
    "\n",
    "    \n",
    "def show_numerical_results_table(scheme_8_results, scheme_9_results, ref_value=None):\n",
    "    #TODO init constants\n",
    "    table_size = np.size(scheme_8_results['U_M'])\n",
    "    \n",
    "    print(\"\\tEstimation of E[f] with Scheme (8) (left) and Scheme (9) (right).\")\n",
    "    print()\n",
    "    print(\"\\tMean Value\\t Stat.Error\\t Comp.Time\\t||\\t Mean Value\\t Stat.Error\\t Comp.Time\")\n",
    "    \n",
    "    if ref_value != None:\n",
    "        print(f\"Ref\\t {ref_value}\")\n",
    "        print()\n",
    "        \n",
    "    for k in range(table_size):\n",
    "        print(f\"n={scheme_8_results['n'][k]}\\t\",\n",
    "            f\"{scheme_8_results['U_M'][k]:f}\\t\",\n",
    "            f\"{scheme_8_results['error'][k]:f}\\t\",\n",
    "            f\"{scheme_8_results['time'][k]:f}\\t||\\t\",\n",
    "            f\"{scheme_9_results['U_M'][k]:f}\\t\",\n",
    "            f\"{scheme_9_results['error'][k]:f}\\t\",\n",
    "            f\"{scheme_9_results['time'][k]:f}\")\n"
   ]
  },
  {
   "cell_type": "code",
   "execution_count": 317,
   "id": "3db7042f",
   "metadata": {},
   "outputs": [],
   "source": [
    "def stats_n(data):\n",
    "\n",
    "    U_M = np.mean(data)\n",
    "    var_M = np.var(data)\n",
    "    \n",
    "    error = 2*var_M/np.sqrt(M)\n",
    "    confidence_interval = [U_M - error, U_M + error]\n",
    "\n",
    "    return {\"U_M\": U_M,\n",
    "            \"var_M\": var_M,\n",
    "            \"error\": error,\n",
    "            \"confidence_interval\": confidence_interval}"
   ]
  },
  {
   "cell_type": "markdown",
   "id": "214b816d",
   "metadata": {},
   "source": [
    "$$W_{\\frac{t_{i+1}+t_i}{2}}\\sim\\mathcal{N}\\big(\\frac{W_{i+1}+W_i}{2},\\frac{t_{i+1}-t_i}{4}\\big)$$"
   ]
  },
  {
   "cell_type": "code",
   "execution_count": 318,
   "id": "7740eac1",
   "metadata": {},
   "outputs": [],
   "source": [
    "def generate_subdivision(t):\n",
    "\n",
    "    t_size = np.size(t)\n",
    "    t_temp = t\n",
    "    \n",
    "    for k in range(0,t_size-1):\n",
    "        t = np.insert(t,2*k+1,(t_temp[k+1]+t_temp[k])/2)\n",
    "        \n",
    "    return t\n",
    "\n",
    "def generate_BM(t,W,W_orth,n=n_initial):\n",
    "\n",
    "    if np.size(W)==0 or np.size(W_orth)==0:\n",
    "        if np.size(t) != n:\n",
    "            raise Exception(f\"np.size(t) != n_initial\\n np.size(t)={np.size(t)},n_initial={n}\")\n",
    "            \n",
    "        G1 = np.random.randn(n)\n",
    "        G2 = np.random.randn(n)\n",
    "        \n",
    "        W.append(0)\n",
    "        W_orth.append(0)\n",
    "        \n",
    "        for i in range(n-1):\n",
    "            W.append(W[i] + np.sqrt(t[i+1] - t[i])*G1[i])\n",
    "            W_orth.append(W_orth[i] + np.sqrt(t[i+1] - t[i])*G2[i])\n",
    "            #print(W)\n",
    "        \n",
    "        return W, W_orth\n",
    "\n",
    "    W_temp = W\n",
    "    W_orth_temp = W_orth\n",
    "    \n",
    "    N = np.size(t)\n",
    "    \n",
    "    t_delta = t[2]-t[0]\n",
    "\n",
    "    for i in range(1,N,2):\n",
    "        \n",
    "        W_k = np.random.normal((W[i-1]+W[i])/2, t_delta/4) #(t[i+1]-t[i-1])/4)\n",
    "        W_orth_k = np.random.normal((W_orth[i-1]+W_orth[i])/2, t_delta/4)#(t[i+1]-t[i-1])/4)\n",
    "        \n",
    "        W_temp.insert(i,W_k)\n",
    "        W_orth_temp.insert(i,W_orth_k)\n",
    "\n",
    "\n",
    "    return W_temp, W_orth_temp"
   ]
  },
  {
   "cell_type": "code",
   "execution_count": 319,
   "id": "fe9a3b31",
   "metadata": {
    "scrolled": false
   },
   "outputs": [
    {
     "data": {
      "image/png": "[encoded data removed]",
      "text/plain": [
       "<Figure size 432x288 with 1 Axes>"
      ]
     },
     "metadata": {
      "needs_background": "light"
     },
     "output_type": "display_data"
    }
   ],
   "source": [
    "n_test=4\n",
    "t_test = [k*T/(n_test-1) for k in range(n_test)]\n",
    "w1,w2=generate_BM(t_test,[],[],n_test)\n",
    "\n",
    "for i in range(10):\n",
    "    #print(t_test)\n",
    "    #print(w1)\n",
    "    #print(np.size(w1))\n",
    "    t_test=generate_subdivision(t_test)\n",
    "    w1,w2=generate_BM(t_test,w1,w2)\n",
    "    #plt.plot(t_test,w1)\n",
    "    #plt.show()\n",
    "\n",
    "_=plt.plot(t_test,w1)"
   ]
  },
  {
   "cell_type": "code",
   "execution_count": 320,
   "id": "058d2b06",
   "metadata": {},
   "outputs": [
    {
     "data": {
      "text/plain": [
       "[<matplotlib.lines.Line2D at 0x7fd1f84dfc10>]"
      ]
     },
     "execution_count": 320,
     "metadata": {},
     "output_type": "execute_result"
    },
    {
     "data": {
      "image/png": "[encoded data removed]",
      "text/plain": [
       "<Figure size 432x288 with 1 Axes>"
      ]
     },
     "metadata": {
      "needs_background": "light"
     },
     "output_type": "display_data"
    }
   ],
   "source": [
    "n_test=97\n",
    "t_test = [k*T/(n_test-1) for k in range(n_test)]\n",
    "w,_=generate_BM(t_test,[],[],n_test)\n",
    "\n",
    "plt.plot(t_test,w)"
   ]
  },
  {
   "cell_type": "markdown",
   "id": "6d14b0c4",
   "metadata": {},
   "source": [
    "$$\n",
    "\\bar{X}_t:=\\max_{0\\leq s\\leq t}X_s,\\\\\n",
    "    M_{t_k}^n=\\sum_{i=1}^k\\sqrt{\\bar{X}_{t_i}^n-\\bar{X}_{t_{i-1}}^n}Z_i, \\quad M_{t_k}^{n\\bot}=\\sum_{i=1}^k\\sqrt{\\bar{X}_{t_i}^n-\\bar{X}_{t_{i-1}}^n}Z_i^\\bot, \\\\\n",
    "Y_{t_k}^n=Y_0-\\frac{1}{2}\\bar{X}_{t_k}^n+\\rho M_{t_k}^n+\\sqrt{1-\\rho^2}M_{t_k}^{n\\bot}, \\\\\n",
    "    X_{t_k}^n=V_0t_k+\\sum_{i=0}^{k-1}K(t_k-t_i)\\bigg(\\theta t_i-\\lambda\\bar{X}_{t_i}^n+\\nu M_{t_i}^n\\bigg)\\Delta t_i^n, \\\\\n",
    "    S_{t_k}^n=\\exp(Y_{t_k}^n).\n",
    "$$\n",
    "\n",
    "$$\n",
    "Z_i,Z_i^\\bot\\sim\\mathcal{N}(0,1)\n",
    "$$"
   ]
  },
  {
   "cell_type": "code",
   "execution_count": 321,
   "id": "966e232e",
   "metadata": {},
   "outputs": [],
   "source": [
    "def S_X_process(t,Z,Z_orth):\n",
    "    \n",
    "    n = np.size(t)\n",
    "    \n",
    "    Y_n = np.zeros(n)\n",
    "    X_n = np.zeros(n)\n",
    "    X_n_max = np.zeros(n)\n",
    "    \n",
    "    S_n = np.zeros(n)\n",
    "\n",
    "    M_n = np.zeros(n)\n",
    "    M_n_orth = np.zeros(n)\n",
    "\n",
    "    Y_n[0] = Y_0\n",
    "    S_n[0] = S_0\n",
    "   \n",
    "    t_delta = t[1] - t[0]\n",
    "        \n",
    "    for k in range(n):\n",
    "\n",
    "        # X is OK\n",
    "        X_sum = 0\n",
    "        for i in range(k):\n",
    "            #X_sum += (theta*t[i] - l*X_n_max[i] + nu*M_n[i])*t_delta*K_t(t[k] - t[i])\n",
    "            X_sum += (-l*X_n_max[i] + nu*M_n[i])*t_delta*K_t(t[k] - t[i])\n",
    "\n",
    "        K_integral = integrate.quad(lambda s: theta*s*K_t(t[k]-s), 0, t[k])[0]\n",
    "        \n",
    "        X_n[k] = V_0*t[k] + X_sum + K_integral\n",
    "        X_n_max[k] = np.max(X_n)\n",
    "\n",
    "        for i in range(1,k+1):\n",
    "            M_n[k] += np.sqrt(X_n_max[i] - X_n_max[i-1])*Z[i]\n",
    "            M_n_orth[k] += np.sqrt(X_n_max[i] - X_n_max[i-1])*Z_orth[i]\n",
    "        \n",
    "        # Y is not OK\n",
    "        Y_n[k] = Y_0 - 0.5*X_n_max[k] + rho*M_n[k] + np.sqrt(1 - rho**2)*M_n_orth[k]\n",
    "        S_n[k] = np.exp(Y_n[k])\n",
    "        \n",
    "        \n",
    "    return {\"S_n\": S_n,\n",
    "            \"X_n\": X_n}\n"
   ]
  },
  {
   "cell_type": "code",
   "execution_count": 348,
   "id": "02b4ffee",
   "metadata": {},
   "outputs": [],
   "source": [
    "def generate_Z(n,Z,Z_orth):\n",
    "        \n",
    "    if n == np.size(Z):\n",
    "        return Z, Z_orth\n",
    "    \n",
    "    if np.size(Z) == 0 or np.size(Z_orth) == 0:\n",
    "        Z = np.random.normal(0,1,n)\n",
    "        Z_orth = np.random.normal(0,1,n)\n",
    "        \n",
    "        return Z, Z_orth\n",
    "\n",
    "    j = 1\n",
    "    for i in range(1,n,2):\n",
    "        Z = np.insert(Z, j, np.random.normal(0,1))\n",
    "        Z_orth = np.insert(Z_orth, j, np.random.normal(0,1))\n",
    "        j+=2\n",
    "        \n",
    "        \n",
    "    return Z, Z_orth\n",
    "\n",
    "def scheme_9(f, variable, n=None):\n",
    "    \n",
    "    iterations = number_of_iterations\n",
    "    N = n_initial\n",
    "    \n",
    "    if n != None:\n",
    "        iterations = 1\n",
    "        N = n\n",
    "        \n",
    "    t = [k*T/(N-1) for k in range(N)]\n",
    "\n",
    "    Z_M = [0]*M\n",
    "    Z_orth_M = [0]*M\n",
    "\n",
    "    for m in range(M):\n",
    "        Z, Z_orth = generate_Z(np.size(t),[],[])\n",
    "\n",
    "        Z_M[m] = Z\n",
    "        Z_orth_M[m] = Z_orth\n",
    "        \n",
    "    final_result = {key: [] for key in [\"U_M\",\"n\",\"time\",\"var_M\",\"confidence_interval\",\"error\",\"cum_sum_n\"]}\n",
    "\n",
    "    evaluate = None\n",
    "        \n",
    "    for n in range(iterations):\n",
    "\n",
    "        t_0 = time()\n",
    "\n",
    "        f_n_M = np.zeros(M)\n",
    "        \n",
    "        for m in range(M):\n",
    "            result_sv = S_X_process(t,Z_M[m],Z_orth_M[m])\n",
    "\n",
    "            S_n = result_sv[\"S_n\"]\n",
    "            X_n = result_sv[\"X_n\"]\n",
    "\n",
    "            if variable == S_n_const:\n",
    "                evaluate = S_n\n",
    "            elif variable == X_n_const:\n",
    "                evaluate = X_n\n",
    "            else:\n",
    "                raise Exception(f\"Wrong variable call: {variable}\")\n",
    "\n",
    "            f_n_M[m] = f(evaluate)\n",
    "            \n",
    "            Z_M[m], Z_orth_M[m] = generate_Z(2*np.size(t)-1,Z_M[m],Z_orth_M[m])\n",
    "        \n",
    "        t_1 = time()\n",
    "        \n",
    "        n_result = stats_n(f_n_M)\n",
    "\n",
    "        final_result[\"U_M\"].append(n_result[\"U_M\"])\n",
    "        final_result[\"error\"].append(n_result[\"error\"])\n",
    "        final_result[\"var_M\"].append(n_result[\"var_M\"])\n",
    "        final_result[\"confidence_interval\"].append(n_result[\"confidence_interval\"])\n",
    "        final_result[\"time\"].append(t_1 - t_0)\n",
    "        final_result[\"n\"].append(np.size(t))\n",
    "        \n",
    "        t = generate_subdivision(t)\n",
    "\n",
    "\n",
    "    integers1toN = np.arange(1,iterations+1)\n",
    "    cum_sum_n = np.cumsum(final_result[\"U_M\"])/integers1toN\n",
    "\n",
    "    final_result['cum_sum_n'] = cum_sum_n\n",
    "\n",
    "    return final_result"
   ]
  },
  {
   "cell_type": "code",
   "execution_count": 364,
   "id": "b23c236d",
   "metadata": {
    "scrolled": false
   },
   "outputs": [],
   "source": [
    "def scheme_8(f, variable, n=None):\n",
    "\n",
    "    iterations = number_of_iterations\n",
    "    N = n_initial\n",
    "    \n",
    "    if n != None:\n",
    "        iterations = 1\n",
    "        N = n\n",
    "        \n",
    "    t = [k*T/(N-1) for k in range(N)]\n",
    "\n",
    "    W_M = [0]*M\n",
    "    W_orth_M = [0]*M\n",
    "\n",
    "    for m in range(M):\n",
    "        W, W_orth = generate_BM(t,[],[])\n",
    "\n",
    "        W_M[m] = W\n",
    "        W_orth_M[m] = W_orth\n",
    " \n",
    "    final_result = {key: [] for key in [\"U_M\",\"n\",\"time\",\"var_M\",\"confidence_interval\",\"error\",\"cum_sum_n\"]}\n",
    "    evaluate = None\n",
    "    \n",
    "    for n in range(iterations):\n",
    "\n",
    "        t_0 = time()\n",
    "\n",
    "        t_delta = t[1]-t[0]\n",
    "\n",
    "        f_n_M = np.zeros(M)\n",
    "\n",
    "        for m in range(M):\n",
    "            #print(m,W_M[m])\n",
    "            result_sv = S_V_process(t,W_M[m],W_orth_M[m])\n",
    "\n",
    "            S_n = result_sv[\"S_n\"]\n",
    "            V_n = result_sv[\"V_n\"]\n",
    "            X_n = sum(V_n)*t_delta\n",
    "            #print(S_n)\n",
    "            \n",
    "            if variable == S_n_const:\n",
    "                evaluate = S_n\n",
    "            elif variable == V_n_const:\n",
    "                evaluate = V_n\n",
    "            elif variable == X_n_const:\n",
    "                evaluate = X_n\n",
    "            else:\n",
    "                raise Exception(f\"Wrong variable call: {variable}\")\n",
    "\n",
    "            f_n_M[m] = f(evaluate)\n",
    "\n",
    "            t_new = generate_subdivision(t)\n",
    "            W_M[m], W_orth_M[m] = generate_BM(t_new,W_M[m],W_orth_M[m])\n",
    "\n",
    "        \n",
    "        t_1 = time()\n",
    "        \n",
    "        n_result = stats_n(f_n_M)\n",
    "\n",
    "        final_result[\"U_M\"].append(n_result[\"U_M\"])\n",
    "        final_result[\"error\"].append(n_result[\"error\"])\n",
    "        final_result[\"var_M\"].append(n_result[\"var_M\"])\n",
    "        final_result[\"confidence_interval\"].append(n_result[\"confidence_interval\"])\n",
    "        final_result[\"time\"].append(t_1 - t_0)\n",
    "        final_result[\"n\"].append(np.size(t))\n",
    "\n",
    "        t = generate_subdivision(t)\n",
    "\n",
    "    integers1toN = np.arange(1,iterations+1)\n",
    "    cum_sum_n = np.cumsum(final_result[\"U_M\"])/integers1toN\n",
    "\n",
    "    final_result['cum_sum_n'] = cum_sum_n\n",
    "\n",
    "    return final_result"
   ]
  },
  {
   "cell_type": "code",
   "execution_count": 353,
   "id": "2892c9de",
   "metadata": {},
   "outputs": [],
   "source": [
    "def S_V_process(t,W,W_orth):\n",
    "\n",
    "    n = np.size(t)\n",
    "\n",
    "    Y_n = np.zeros(n)\n",
    "    V_n = np.zeros(n)\n",
    "    S_n = np.zeros(n)\n",
    "\n",
    "    S_n[0] = S_0\n",
    "    Y_n[0] = Y_0\n",
    "    V_n[0] = V_0\n",
    "\n",
    "    t_delta = t[1] - t[0]\n",
    "\n",
    "    #print(W)\n",
    "    for k in range(1,n):\n",
    "\n",
    "        # V is OK\n",
    "        V_sum = 0\n",
    "        for i in range(k):\n",
    "            #print(i,k)\n",
    "            #V_sum += ((K_t(t[k]-t[i])*((theta - l*np.maximum(V_n[i],0))*t_delta\n",
    "            #         + nu*np.sqrt(np.maximum(V_n[i],0))*(W[i+1] - W[i]))))\n",
    "            #print(W)\n",
    "            V_sum += ((K_t(t[k]-t[i])*(-l*np.maximum(V_n[i],0)*t_delta\n",
    "                     + nu*np.sqrt(np.maximum(V_n[i],0))*(W[i+1] - W[i]))))\n",
    "\n",
    "        K_integral = integrate.quad(lambda s: theta*K_t(t[k]-s), 0, t[k])[0]\n",
    "        V_n[k] = V_0 + V_sum + K_integral\n",
    "\n",
    "        # Y is OK\n",
    "        Y_sum = 0\n",
    "        for i in range(k):\n",
    "            Y_sum += (-0.5*np.maximum(V_n[i],0)*t_delta + rho*np.sqrt(np.maximum(V_n[i],0))*(W[i+1] - W[i]) \n",
    "                  + np.sqrt(1 - rho**2)*np.sqrt(np.maximum(V_n[i],0))*(W_orth[i+1] - W_orth[i]))\n",
    "\n",
    "        Y_n[k] = Y_0 + Y_sum\n",
    "        S_n[k] = np.exp(Y_n[k])\n",
    "\n",
    "\n",
    "    return {\"V_n\": V_n,\n",
    "            \"S_n\": S_n}\n"
   ]
  },
  {
   "cell_type": "markdown",
   "id": "2f2d8cca",
   "metadata": {},
   "source": [
    "## _European call_ maximum(S_T-K,0)"
   ]
  },
  {
   "cell_type": "code",
   "execution_count": 371,
   "id": "041d1b73",
   "metadata": {
    "scrolled": false
   },
   "outputs": [],
   "source": [
    "scheme_8_results = scheme_8(european_call_options, S_n_const) #CONVERGES!\n",
    "scheme_9_results = scheme_9(european_call_options, S_n_const) #ne zbs\n",
    "#Getting different results (9th seems to be closer to the truth)\n",
    "\n",
    "#For fixed n=49 0.056328 0.058179\n",
    "#Problem with refinement: n=49\t 0.039976 0.057779"
   ]
  },
  {
   "cell_type": "code",
   "execution_count": 372,
   "id": "5d38e9a2",
   "metadata": {},
   "outputs": [
    {
     "data": {
      "image/png": "[encoded data removed]",
      "text/plain": [
       "<Figure size 432x288 with 1 Axes>"
      ]
     },
     "metadata": {
      "needs_background": "light"
     },
     "output_type": "display_data"
    },
    {
     "name": "stdout",
     "output_type": "stream",
     "text": [
      "\tEstimation of E[f] with Scheme (8) (left) and Scheme (9) (right).\n",
      "\n",
      "\tMean Value\t Stat.Error\t Comp.Time\t||\t Mean Value\t Stat.Error\t Comp.Time\n",
      "Ref\t 0.056832\n",
      "\n",
      "n=4\t 0.159569\t 0.000000\t 0.006610\t||\t 0.000000\t 0.000000\t 0.001011\n",
      "n=7\t 0.074693\t 0.000000\t 0.009077\t||\t 0.000000\t 0.000000\t 0.002407\n",
      "n=13\t 0.095580\t 0.000000\t 0.020638\t||\t 0.000000\t 0.000000\t 0.004894\n",
      "n=25\t 0.092795\t 0.000000\t 0.023352\t||\t 0.003014\t 0.000000\t 0.010251\n",
      "n=49\t 0.088115\t 0.000000\t 0.040663\t||\t 0.000000\t 0.000000\t 0.022812\n",
      "n=97\t 0.083657\t 0.000000\t 0.095593\t||\t 0.000000\t 0.000000\t 0.055484\n",
      "n=193\t 0.081290\t 0.000000\t 0.317197\t||\t 0.000000\t 0.000000\t 0.147372\n",
      "n=385\t 0.079477\t 0.000000\t 1.141377\t||\t 0.000000\t 0.000000\t 0.448625\n"
     ]
    }
   ],
   "source": [
    "plot_estimations(scheme_8_results, scheme_9_results, \"E[maximum(S_T-K,0)]\")\n",
    "show_numerical_results_table(scheme_8_results ,scheme_9_results, european_call_ref)"
   ]
  },
  {
   "cell_type": "markdown",
   "id": "52e2f55f",
   "metadata": {},
   "source": [
    "## _Asian option_ maximum(A_T-K,0)"
   ]
  },
  {
   "cell_type": "code",
   "execution_count": 362,
   "id": "0226e0eb",
   "metadata": {
    "scrolled": false
   },
   "outputs": [
    {
     "name": "stdout",
     "output_type": "stream",
     "text": [
      "[1.         0.86423242 0.92176    0.90872889]\n",
      "[1.         0.94206393 0.83390614 0.86095921 0.88714185 0.88796597\n",
      " 0.87074481]\n",
      "[1.         0.98080235 0.93784773 0.8942316  0.81631805 0.82098002\n",
      " 0.84170173 0.87404575 0.87064813 0.86947631 0.8715156  0.85784752\n",
      " 0.85206712]\n",
      "[1.         0.98451337 0.98014785 0.9573884  0.93389662 0.91568982\n",
      " 0.88685512 0.85087057 0.80493988 0.80148576 0.8092928  0.81790724\n",
      " 0.82885943 0.84762275 0.85696615 0.85376044 0.85325483 0.85325228\n",
      " 0.85201996 0.85200502 0.85417023 0.84692112 0.83973289 0.83575818\n",
      " 0.83381162]\n",
      "[1.         0.99153445 0.98346452 0.98231106 0.9794122  0.96601878\n",
      " 0.95523123 0.94499057 0.92928087 0.92105088 0.91010812 0.89425407\n",
      " 0.88023697 0.86304729 0.84290944 0.81979161 0.79476504 0.79419801\n",
      " 0.79132266 0.79384524 0.79895848 0.80371268 0.80719879 0.81413541\n",
      " 0.81799231 0.82610649 0.83472029 0.8387276  0.8438148  0.84167868\n",
      " 0.84048231 0.84275747 0.84006534 0.84183891 0.84013704 0.83769665\n",
      " 0.83892189 0.83933815 0.83888109 0.84033106 0.84106428 0.83862795\n",
      " 0.83374506 0.82981828 0.82615307 0.82527044 0.82222351 0.82264699\n",
      " 0.82052616]\n",
      "[1.         0.99543906 0.99106889 0.98549232 0.98284079 0.98174392\n",
      " 0.98169624 0.98060553 0.97882241 0.97323678 0.96477873 0.96156217\n",
      " 0.9536033  0.94583158 0.94263481 0.93568917 0.92618681 0.92190022\n",
      " 0.91767536 0.91111841 0.90622127 0.90028317 0.8903341  0.88396875\n",
      " 0.87595558 0.86639342 0.85821408 0.84958581 0.83770015 0.82661795\n",
      " 0.81391277 0.80037944 0.78783453 0.78774862 0.78725603 0.78648832\n",
      " 0.78440371 0.78487315 0.78690521 0.79040897 0.791919   0.79567533\n",
      " 0.79658599 0.79801128 0.80007655 0.80250424 0.80682502 0.80914954\n",
      " 0.81063086 0.81478316 0.81830715 0.82305947 0.82657554 0.82897848\n",
      " 0.83045597 0.83352444 0.83549147 0.83446666 0.83324035 0.83248963\n",
      " 0.83205028 0.8349071  0.83439051 0.83367384 0.83152328 0.83280524\n",
      " 0.83331842 0.83319547 0.83155007 0.83090659 0.82907795 0.8295436\n",
      " 0.83031905 0.83057533 0.83073632 0.83062572 0.83025622 0.83076164\n",
      " 0.8317222  0.83146514 0.83245822 0.83135051 0.8300299  0.82821564\n",
      " 0.82493174 0.82223995 0.82088367 0.81828386 0.8170848  0.81539623\n",
      " 0.81614487 0.81387194 0.81307771 0.81365324 0.813523   0.81075401\n",
      " 0.81143172]\n",
      "[1.         0.99768921 0.99528668 0.9929241  0.99075582 0.98783268\n",
      " 0.98510641 0.98360412 0.98244709 0.98259294 0.98139446 0.98092493\n",
      " 0.98133542 0.98072866 0.9802471  0.97855553 0.97847298 0.97497131\n",
      " 0.97276192 0.96858588 0.96399897 0.96272097 0.96073518 0.95646778\n",
      " 0.95228471 0.94817757 0.9440364  0.94260453 0.94076123 0.93860484\n",
      " 0.93361952 0.92855157 0.92376996 0.92113552 0.91935738 0.91686995\n",
      " 0.91506448 0.91119468 0.90827797 0.90579076 0.903283   0.89948646\n",
      " 0.89728529 0.89200465 0.88712394 0.88445874 0.88069122 0.87643007\n",
      " 0.87252666 0.86760045 0.86274236 0.85836542 0.85450293 0.85140119\n",
      " 0.84576428 0.83912471 0.83358592 0.82787009 0.82227741 0.81589377\n",
      " 0.80935591 0.8022802  0.79545806 0.78810196 0.78253093 0.78187021\n",
      " 0.78242814 0.78226023 0.78193941 0.78157077 0.78117503 0.78106169\n",
      " 0.77906625 0.78059385 0.7795661  0.78036309 0.78158352 0.78326656\n",
      " 0.78503443 0.78569889 0.78651147 0.78863165 0.79018863 0.79128009\n",
      " 0.79109469 0.79140757 0.79253382 0.79327542 0.79461614 0.79529154\n",
      " 0.79702264 0.79863924 0.80130448 0.80263832 0.80358823 0.8039902\n",
      " 0.80505226 0.80757151 0.80906622 0.81067401 0.81246495 0.81496766\n",
      " 0.81707258 0.81921877 0.82049003 0.82158683 0.82282531 0.82339719\n",
      " 0.82432312 0.82601498 0.82733487 0.82878974 0.82929122 0.82890533\n",
      " 0.82822805 0.82731867 0.82698703 0.82665524 0.8262298  0.82634786\n",
      " 0.82580339 0.82689516 0.8285859  0.82815886 0.82806446 0.82753909\n",
      " 0.82733172 0.82684094 0.82513657 0.82598764 0.82642772 0.82650962\n",
      " 0.82693361 0.82637324 0.8268286  0.82585699 0.82517072 0.8252252\n",
      " 0.82453421 0.82364683 0.82264322 0.82280606 0.82311375 0.82362541\n",
      " 0.82389513 0.82397256 0.82415297 0.82409856 0.82431837 0.82411468\n",
      " 0.82420727 0.82358594 0.82383513 0.82426122 0.82433892 0.82505552\n",
      " 0.82530353 0.82500664 0.82504408 0.82644573 0.82603792 0.82580514\n",
      " 0.82494548 0.82397143 0.82360538 0.82297711 0.82176833 0.81995138\n",
      " 0.81839791 0.81621168 0.81564604 0.81525555 0.81426242 0.81289655\n",
      " 0.81159081 0.81053481 0.81036518 0.81011388 0.80871059 0.80889444\n",
      " 0.80944722 0.80814307 0.80716084 0.8062403  0.80636188 0.80750621\n",
      " 0.80698868 0.80652855 0.80685647 0.80548509 0.80405787 0.80420534\n",
      " 0.80472586]\n",
      "[1.         0.99864312 0.99764389 0.99643699 0.99517223 0.99416088\n",
      " 0.99276994 0.99184824 0.99059204 0.98932299 0.98764174 0.9864425\n",
      " 0.98488069 0.98440876 0.98337797 0.98300346 0.9822264  0.9824812\n",
      " 0.98237577 0.98183228 0.98119443 0.98091277 0.9807314  0.98100367\n",
      " 0.98113608 0.98076016 0.9805285  0.9800112  0.98004699 0.97953281\n",
      " 0.97835988 0.97825235 0.97827685 0.97672713 0.97468209 0.97345146\n",
      " 0.97243865 0.97010312 0.96815827 0.9657708  0.96343712 0.96274943\n",
      " 0.96214452 0.96145927 0.96011807 0.95820118 0.95564113 0.95355305\n",
      " 0.95130306 0.94898279 0.94703665 0.9449474  0.94274515 0.94190361\n",
      " 0.94128567 0.94008555 0.93939389 0.93815611 0.93720389 0.93483733\n",
      " 0.93210293 0.92902811 0.92689307 0.92397095 0.92198835 0.92070094\n",
      " 0.91931526 0.91852337 0.91751863 0.91572847 0.91500081 0.91406452\n",
      " 0.91316569 0.91125217 0.90921233 0.90762472 0.90622638 0.90480588\n",
      " 0.90369774 0.90295304 0.90118143 0.89922468 0.89735711 0.89671111\n",
      " 0.89516047 0.89284595 0.88983046 0.88792016 0.88490913 0.88355042\n",
      " 0.88221908 0.88029109 0.87839365 0.87611391 0.87409563 0.8720997\n",
      " 0.8701262  0.86743079 0.86511754 0.86290968 0.86018717 0.85819893\n",
      " 0.85578487 0.85343975 0.85189551 0.85012612 0.84877419 0.84631037\n",
      " 0.84307977 0.84009034 0.83634842 0.83353162 0.83072074 0.82794425\n",
      " 0.82491539 0.82192269 0.81925555 0.81581329 0.81279644 0.80922523\n",
      " 0.80616191 0.80325878 0.79898197 0.7952366  0.79200066 0.78786874\n",
      " 0.78448364 0.78182488 0.77884424 0.77899396 0.77818491 0.77819584\n",
      " 0.77874339 0.77782245 0.77857153 0.77855434 0.77825632 0.77807582\n",
      " 0.77789202 0.77737721 0.77749368 0.77733099 0.77737898 0.77665779\n",
      " 0.77537542 0.77583523 0.77690139 0.77659875 0.77587437 0.77620366\n",
      " 0.77666601 0.7772012  0.77787272 0.77892123 0.7795412  0.78019883\n",
      " 0.78128122 0.78116282 0.78193606 0.78242976 0.78273999 0.7838934\n",
      " 0.78483152 0.78551381 0.78637587 0.78659771 0.78745398 0.78771455\n",
      " 0.7872725  0.78775315 0.78758332 0.7879186  0.78871301 0.78902371\n",
      " 0.78946094 0.79021928 0.79080533 0.79146734 0.79148001 0.79224347\n",
      " 0.79319218 0.79380862 0.79480574 0.79603814 0.79745693 0.79800509\n",
      " 0.79877273 0.79923044 0.79972053 0.80013642 0.80012061 0.80074496\n",
      " 0.80117873 0.80245756 0.80362447 0.80461169 0.8050921  0.80594343\n",
      " 0.80666267 0.80747149 0.80840811 0.80970524 0.81086778 0.81202604\n",
      " 0.81294217 0.81402076 0.8150355  0.8159235  0.81629231 0.81717992\n",
      " 0.81737701 0.81788667 0.81861298 0.81909553 0.81918248 0.81959911\n",
      " 0.82011207 0.82098922 0.8217674  0.8224552  0.82308562 0.82394998\n",
      " 0.82452744 0.82465103 0.82503603 0.82477523 0.82464231 0.82425918\n",
      " 0.82394782 0.82362902 0.82304836 0.8228278  0.82271479 0.82257807\n",
      " 0.82238006 0.82193919 0.82195468 0.82218771 0.82207635 0.82199949\n",
      " 0.82153163 0.82202082 0.82261067 0.82377325 0.82426231 0.82422385\n",
      " 0.82381528 0.82365075 0.82372021 0.82340073 0.82318594 0.82310907\n",
      " 0.82297288 0.82286557 0.82247422 0.82180454 0.82074756 0.82104486\n",
      " 0.82160579 0.82163986 0.82205191 0.82215882 0.82213452 0.82237067\n",
      " 0.82255525 0.82220852 0.82198059 0.8220375  0.82244041 0.8220483\n",
      " 0.82146433 0.82115194 0.82077789 0.82093946 0.82083398 0.82032451\n",
      " 0.82013631 0.81986488 0.81923338 0.81882773 0.81821037 0.818235\n",
      " 0.81837329 0.81849405 0.81868193 0.81886036 0.81919687 0.81951986\n",
      " 0.81946789 0.81954156 0.81954488 0.81955441 0.81972342 0.81944329\n",
      " 0.81967284 0.81991654 0.81989448 0.82022259 0.81969069 0.81994006\n",
      " 0.81978548 0.81929872 0.81915541 0.81928539 0.81940382 0.8197607\n",
      " 0.8198303  0.81985198 0.81990845 0.82036323 0.82062692 0.82082303\n",
      " 0.82087526 0.82042007 0.82058078 0.82082349 0.82061953 0.82135031\n",
      " 0.82202461 0.8218869  0.82161009 0.82132724 0.82137394 0.82136637\n",
      " 0.82053726 0.81984367 0.81954498 0.81952482 0.81918649 0.81916392\n",
      " 0.81855213 0.81788457 0.81731411 0.8164592  0.81547548 0.81479266\n",
      " 0.81390929 0.81306962 0.81167226 0.81138342 0.81109783 0.81093495\n",
      " 0.81070017 0.81022201 0.80969528 0.80870253 0.80830381 0.807608\n",
      " 0.80696855 0.80633379 0.80589283 0.80565514 0.80572003 0.80564316\n",
      " 0.8054713  0.80477981 0.80407007 0.8042385  0.80425414 0.80493414\n",
      " 0.80480797 0.80454494 0.80350686 0.8033919  0.80253371 0.80151024\n",
      " 0.80160685 0.80203764 0.80174056 0.80234669 0.8028519  0.80275015\n",
      " 0.80233688 0.80190792 0.80187541 0.80231124 0.80220324 0.80148677\n",
      " 0.80081774 0.79983927 0.79936707 0.79971952 0.79952021 0.79986268\n",
      " 0.80003743]\n"
     ]
    }
   ],
   "source": [
    "scheme_8_results = scheme_8(asian_options, S_n_const) #CONVERGES!\n",
    "scheme_9_results = scheme_9(asian_options, S_n_const)\n",
    "#Getting different results\n",
    "#For fixed n=49 0.032868 0.031239\n",
    "#Problem with refinement: n=49\t 0.020580 0.031766"
   ]
  },
  {
   "cell_type": "code",
   "execution_count": 363,
   "id": "7d4a5a1f",
   "metadata": {},
   "outputs": [
    {
     "data": {
      "image/png": "[encoded data removed]",
      "text/plain": [
       "<Figure size 432x288 with 1 Axes>"
      ]
     },
     "metadata": {
      "needs_background": "light"
     },
     "output_type": "display_data"
    },
    {
     "name": "stdout",
     "output_type": "stream",
     "text": [
      "\tEstimation of E[f] with Scheme (8) (left) and Scheme (9) (right).\n",
      "\n",
      "\tMean Value\t Stat.Error\t Comp.Time\t||\t Mean Value\t Stat.Error\t Comp.Time\n",
      "Ref\t -\n",
      "\n",
      "n=4\t 0.000000\t 0.000000\t 0.005895\t||\t 0.024135\t 0.000000\t 0.001025\n",
      "n=7\t 0.000000\t 0.000000\t 0.009077\t||\t 0.000000\t 0.000000\t 0.002423\n",
      "n=13\t 0.000000\t 0.000000\t 0.012789\t||\t 0.015443\t 0.000000\t 0.004924\n",
      "n=25\t 0.000000\t 0.000000\t 0.024083\t||\t 0.030416\t 0.000000\t 0.010232\n",
      "n=49\t 0.000000\t 0.000000\t 0.042291\t||\t 0.105689\t 0.000000\t 0.022824\n",
      "n=97\t 0.000000\t 0.000000\t 0.096259\t||\t 0.011867\t 0.000000\t 0.055144\n",
      "n=193\t 0.000000\t 0.000000\t 0.319300\t||\t 0.046608\t 0.000000\t 0.148641\n",
      "n=385\t 0.000000\t 0.000000\t 1.192991\t||\t 0.047480\t 0.000000\t 0.452993\n"
     ]
    }
   ],
   "source": [
    "plot_estimations(scheme_8_results, scheme_9_results, \"E[maximum(A_T-K,0)]\") \n",
    "show_numerical_results_table(scheme_8_results, scheme_9_results, \"-\")"
   ]
  },
  {
   "cell_type": "markdown",
   "id": "7e036c70",
   "metadata": {},
   "source": [
    "## _Lookback option_ maximum(M_T-K,0)\n"
   ]
  },
  {
   "cell_type": "code",
   "execution_count": 298,
   "id": "9920c7a9",
   "metadata": {},
   "outputs": [],
   "source": [
    "scheme_8_results = scheme_8(lookback_options, S_n_const) #duze ne zbs\n",
    "scheme_9_results = scheme_9(lookback_options, S_n_const) #zbs\n",
    "#Getting different results for refinement: n=49\t 0.055984 0.094127\n",
    "#For fixed n=49: 0.090724 0.091100\n",
    "\n",
    "#fixed n=49\t 0.058998 0.087911"
   ]
  },
  {
   "cell_type": "code",
   "execution_count": 299,
   "id": "1d06261f",
   "metadata": {},
   "outputs": [
    {
     "data": {
      "image/png": "[encoded data removed]",
      "text/plain": [
       "<Figure size 432x288 with 1 Axes>"
      ]
     },
     "metadata": {
      "needs_background": "light"
     },
     "output_type": "display_data"
    },
    {
     "name": "stdout",
     "output_type": "stream",
     "text": [
      "\tEstimation of E[f] with Scheme (8) (left) and Scheme (9) (right).\n",
      "\n",
      "\tMean Value\t Stat.Error\t Comp.Time\t||\t Mean Value\t Stat.Error\t Comp.Time\n",
      "Ref\t -\n",
      "\n",
      "n=4\t 0.075194\t 0.000519\t 0.901908\t||\t 0.082439\t 0.000559\t 0.993420\n",
      "n=7\t 0.067470\t 0.000388\t 2.335829\t||\t 0.080922\t 0.000424\t 2.446346\n",
      "n=13\t 0.063632\t 0.000340\t 5.148180\t||\t 0.086712\t 0.000384\t 4.981857\n",
      "n=25\t 0.060702\t 0.000326\t 12.189297\t||\t 0.090218\t 0.000367\t 10.446593\n",
      "n=49\t 0.058611\t 0.000319\t 32.134143\t||\t 0.092011\t 0.000336\t 23.197444\n",
      "n=97\t 0.056763\t 0.000314\t 95.487080\t||\t 0.094005\t 0.000336\t 56.132282\n"
     ]
    }
   ],
   "source": [
    "plot_estimations(scheme_8_results, scheme_9_results, \"E[maximum(M_T-K,0)]\")\n",
    "show_numerical_results_table(scheme_8_results, scheme_9_results, \"-\")"
   ]
  },
  {
   "cell_type": "markdown",
   "id": "56b89ec9",
   "metadata": {},
   "source": [
    "## _Variance swap price_ E[X_t]"
   ]
  },
  {
   "cell_type": "code",
   "execution_count": 300,
   "id": "7d8bc709",
   "metadata": {},
   "outputs": [],
   "source": [
    "scheme_8_results = scheme_8(variance_swap_price, X_n_const) #8th converges to sth\n",
    "scheme_9_results = scheme_9(variance_swap_price, X_n_const) #9th seems to converge to sth\n",
    "# for fixed n=100 both schemes converges to ~0.0244"
   ]
  },
  {
   "cell_type": "code",
   "execution_count": 301,
   "id": "81056e8f",
   "metadata": {},
   "outputs": [
    {
     "data": {
      "image/png": "[encoded data removed]",
      "text/plain": [
       "<Figure size 432x288 with 1 Axes>"
      ]
     },
     "metadata": {
      "needs_background": "light"
     },
     "output_type": "display_data"
    },
    {
     "name": "stdout",
     "output_type": "stream",
     "text": [
      "\tEstimation of E[f] with Scheme (8) (left) and Scheme (9) (right).\n",
      "\n",
      "\tMean Value\t Stat.Error\t Comp.Time\t||\t Mean Value\t Stat.Error\t Comp.Time\n",
      "Ref\t 0.028295\n",
      "\n",
      "n=4\t 0.039124\t 0.000051\t 0.900816\t||\t 0.029760\t 0.000023\t 0.997258\n",
      "n=7\t 0.038401\t 0.000055\t 2.344643\t||\t 0.029101\t 0.000034\t 2.456288\n",
      "n=13\t 0.040539\t 0.000066\t 5.176382\t||\t 0.028662\t 0.000041\t 5.073145\n",
      "n=25\t 0.043483\t 0.000081\t 12.282684\t||\t 0.028482\t 0.000045\t 10.478706\n",
      "n=49\t 0.046690\t 0.000098\t 32.764935\t||\t 0.029252\t 0.000062\t 23.184676\n",
      "n=97\t 0.049693\t 0.000112\t 96.690145\t||\t 0.028971\t 0.000059\t 56.779910\n"
     ]
    }
   ],
   "source": [
    "plot_estimations(scheme_8_results, scheme_9_results, \"E[X_T]\", variance_swap_price_ref)\n",
    "show_numerical_results_table(scheme_8_results, scheme_9_results, variance_swap_price_ref)"
   ]
  },
  {
   "cell_type": "markdown",
   "id": "57504c98",
   "metadata": {},
   "source": [
    "## _Variance call price_ E[maximum(X_T-V_0,0)]"
   ]
  },
  {
   "cell_type": "code",
   "execution_count": 302,
   "id": "32eed5fd",
   "metadata": {},
   "outputs": [],
   "source": [
    "scheme_8_results = scheme_8(variance_call_price, X_n_const) #8th converges to sthing\n",
    "scheme_9_results = scheme_9(variance_call_price, X_n_const) #9th not good\n",
    "# for fixed n=100 both schemes converges to 0.013213 0.013164\n",
    "# sth wrong with refinement: n=97\t 0.026338 0.016566"
   ]
  },
  {
   "cell_type": "code",
   "execution_count": 303,
   "id": "a32739dd",
   "metadata": {},
   "outputs": [
    {
     "data": {
      "image/png": "[encoded data removed]",
      "text/plain": [
       "<Figure size 432x288 with 1 Axes>"
      ]
     },
     "metadata": {
      "needs_background": "light"
     },
     "output_type": "display_data"
    },
    {
     "name": "stdout",
     "output_type": "stream",
     "text": [
      "\tEstimation of E[f] with Scheme (8) (left) and Scheme (9) (right).\n",
      "\n",
      "\tMean Value\t Stat.Error\t Comp.Time\t||\t Mean Value\t Stat.Error\t Comp.Time\n",
      "Ref\t 0.013517\n",
      "\n",
      "n=4\t 0.020863\t 0.000038\t 0.900422\t||\t 0.014623\t 0.000018\t 0.989696\n",
      "n=7\t 0.020298\t 0.000042\t 2.340739\t||\t 0.014764\t 0.000028\t 2.433107\n",
      "n=13\t 0.021918\t 0.000052\t 5.158662\t||\t 0.014612\t 0.000042\t 4.979186\n",
      "n=25\t 0.024648\t 0.000065\t 12.242779\t||\t 0.013601\t 0.000042\t 10.464579\n",
      "n=49\t 0.027572\t 0.000078\t 32.204922\t||\t 0.013931\t 0.000049\t 23.271847\n",
      "n=97\t 0.030336\t 0.000091\t 95.740748\t||\t 0.014237\t 0.000050\t 56.608868\n"
     ]
    }
   ],
   "source": [
    "plot_estimations(scheme_8_results, scheme_9_results, \"E[maximum(X_T-V_0,0)]\", variance_call_price_ref)\n",
    "show_numerical_results_table(scheme_8_results, scheme_9_results, variance_call_price_ref)"
   ]
  },
  {
   "cell_type": "code",
   "execution_count": null,
   "id": "edd5d05c",
   "metadata": {},
   "outputs": [],
   "source": []
  },
  {
   "cell_type": "code",
   "execution_count": null,
   "id": "68357e47",
   "metadata": {},
   "outputs": [],
   "source": []
  }
 ],
 "metadata": {
  "kernelspec": {
   "display_name": "Python 3 (ipykernel)",
   "language": "python",
   "name": "python3"
  },
  "language_info": {
   "codemirror_mode": {
    "name": "ipython",
    "version": 3
   },
   "file_extension": ".py",
   "mimetype": "text/x-python",
   "name": "python",
   "nbconvert_exporter": "python",
   "pygments_lexer": "ipython3",
   "version": "3.9.7"
  }
 },
 "nbformat": 4,
 "nbformat_minor": 5
}
