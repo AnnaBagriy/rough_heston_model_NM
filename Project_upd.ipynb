{
 "cells": [
  {
   "cell_type": "code",
   "execution_count": null,
   "id": "9fbaca49",
   "metadata": {},
   "outputs": [],
   "source": [
    "import numpy as np\n",
    "import matplotlib.pyplot as plt\n",
    "import scipy.integrate as integrate\n",
    "\n",
    "from scipy.special import gamma\n",
    "from time import time"
   ]
  },
  {
   "cell_type": "markdown",
   "id": "c9fc8add",
   "metadata": {},
   "source": [
    "## Auxiliary constants"
   ]
  },
  {
   "cell_type": "code",
   "execution_count": null,
   "id": "09616931",
   "metadata": {},
   "outputs": [],
   "source": [
    "european_call_ref = 0.056832\n",
    "variance_swap_price_ref = 0.028295\n",
    "variance_call_price_ref = 0.013517"
   ]
  },
  {
   "cell_type": "code",
   "execution_count": null,
   "id": "b6a3979c",
   "metadata": {},
   "outputs": [],
   "source": [
    "S_n_const = \"S_n\"\n",
    "V_n_const = \"V_n\"\n",
    "X_n_const = \"X_n\""
   ]
  },
  {
   "cell_type": "code",
   "execution_count": null,
   "id": "9a9aa472",
   "metadata": {},
   "outputs": [],
   "source": [
    "M = 10**4\n",
    "\n",
    "l = 0.3\n",
    "nu = 0.3\n",
    "theta = 0.02\n",
    "rho = -0.7\n",
    "H = 0.1\n",
    "\n",
    "K = 1\n",
    "\n",
    "V_0 = 0.02\n",
    "S_0 = 1\n",
    "Y_0 = np.log(S_0)"
   ]
  },
  {
   "cell_type": "code",
   "execution_count": null,
   "id": "47d78c22",
   "metadata": {},
   "outputs": [],
   "source": [
    "T = 1"
   ]
  },
  {
   "cell_type": "code",
   "execution_count": null,
   "id": "5e5d4f50",
   "metadata": {},
   "outputs": [],
   "source": [
    "number_of_iterations = 3\n",
    "n_initial = 4"
   ]
  },
  {
   "cell_type": "markdown",
   "id": "09f6d58c",
   "metadata": {},
   "source": [
    "## Kernel"
   ]
  },
  {
   "cell_type": "code",
   "execution_count": null,
   "id": "3525439a",
   "metadata": {},
   "outputs": [],
   "source": [
    "def K_t(t):\n",
    "    #return np.log(1+1/(t+1))\n",
    "\n",
    "    if t == 0:\n",
    "        return 0\n",
    "    \n",
    "    return t**(H-0.5)/gamma(H+0.5)"
   ]
  },
  {
   "cell_type": "code",
   "execution_count": null,
   "id": "511a60f9",
   "metadata": {},
   "outputs": [],
   "source": [
    "n = 100\n",
    "t = [k*T/(n-1) for k in range(n)]\n",
    "K_arr = []\n",
    "\n",
    "for k in range(np.size(t)):\n",
    "    K_arr.append(K_t(t[k]))\n",
    "    \n",
    "    if K_arr[k]<0:\n",
    "        print(f\"Problem is here: K({t[k]})={K_arr[k]}\")\n",
    "    \n",
    "plt.plot(t, K_arr[t])\n",
    "plt.show()"
   ]
  },
  {
   "cell_type": "markdown",
   "id": "119b4716",
   "metadata": {},
   "source": [
    "## Payoff functions"
   ]
  },
  {
   "cell_type": "code",
   "execution_count": null,
   "id": "fd1827b7",
   "metadata": {},
   "outputs": [],
   "source": [
    "def european_call_options(x):\n",
    "    if type(x) != np.ndarray and type(x) != list:\n",
    "        raise Exception(f\"type(x) != list\\n type(x)={type(x)}\")\n",
    "        \n",
    "    return np.maximum(x[-1]-K,0)\n",
    "\n",
    "def asian_options(x):\n",
    "    A_T = T*np.mean(x)\n",
    "    \n",
    "    return np.maximum(A_T-K,0)\n",
    "\n",
    "def lookback_options(x):\n",
    "    M_T = np.max(x)\n",
    "    \n",
    "    return np.maximum(M_T-K,0)\n",
    "\n",
    "def variance_swap_price(x):\n",
    "    if type(x) is np.ndarray or type(x) is list:\n",
    "        return x[-1]\n",
    "        \n",
    "    return x\n",
    "\n",
    "def variance_call_price(x):\n",
    "    if type(x) is np.ndarray or type(x) is list:\n",
    "        return np.maximum(x[-1]-V_0,0)\n",
    "        \n",
    "    return np.maximum(x-V_0,0)"
   ]
  },
  {
   "cell_type": "markdown",
   "id": "d561be7d",
   "metadata": {},
   "source": [
    "## Utility methods for displaying data"
   ]
  },
  {
   "cell_type": "code",
   "execution_count": null,
   "id": "fb4cf2b5",
   "metadata": {},
   "outputs": [],
   "source": [
    "def plot_estimations(scheme_8_data, scheme_9_data, title=\"E[f(S,X)]\", ref_value=None):\n",
    "    integers1toN = scheme_8_data['n']\n",
    "    \n",
    "    fig, ax = plt.subplots()\n",
    "\n",
    "    ax.plot(integers1toN, scheme_8_data['U_M'], label='Scheme (8)', color=\"blue\")\n",
    "    ax.fill_between(integers1toN, np.array(scheme_8_data['U_M']) - np.array(scheme_8_data['error']), \n",
    "                    np.array(scheme_8_data['U_M']) + np.array(scheme_8_data['error']), label='Confidence interval', \n",
    "                    color='blue', alpha=.1)\n",
    "    \n",
    "    ax.plot(integers1toN, scheme_9_data['U_M'], label='Scheme (9)', color=\"orange\")\n",
    "    ax.fill_between(integers1toN, np.array(scheme_9_data['U_M']) - np.array(scheme_9_data['error']), \n",
    "                    np.array(scheme_9_data['U_M']) + np.array(scheme_9_data['error']), label='Confidence interval', \n",
    "                    color='orange', alpha=.1)\n",
    "\n",
    "    if ref_value != None:\n",
    "        ax.axhline(ref_value, label='reference value', color=\"green\", linestyle='--')\n",
    "    \n",
    "    ax.legend(loc=1)\n",
    "    \n",
    "    plt.title(f\"Estimation of {title}\")\n",
    "    plt.xlabel(\"Number of steps\")\n",
    "    plt.ylabel(\"Estimation\")\n",
    "    \n",
    "    plt.show()\n",
    "\n",
    "    \n",
    "def show_numerical_results_table(scheme_8_results, scheme_9_results, ref_value=None):\n",
    "    table_size = np.size(scheme_8_results['U_M'])\n",
    "    \n",
    "    print(\"\\tEstimation of E[f] with Scheme (8) (left) and Scheme (9) (right).\")\n",
    "    print()\n",
    "    print(\"\\tMean Value\\t Stat.Error\\t Comp.Time\\t||\\t Mean Value\\t Stat.Error\\t Comp.Time\")\n",
    "    \n",
    "    if ref_value != None:\n",
    "        print(f\"Ref\\t {ref_value}\")\n",
    "        print()\n",
    "        \n",
    "    for k in range(table_size):\n",
    "        print(f\"n={scheme_8_results['n'][k]}\\t\",\n",
    "            f\"{scheme_8_results['U_M'][k]:f}\\t\",\n",
    "            f\"{scheme_8_results['error'][k]:f}\\t\",\n",
    "            f\"{scheme_8_results['time'][k]:f}\\t||\\t\",\n",
    "            f\"{scheme_9_results['U_M'][k]:f}\\t\",\n",
    "            f\"{scheme_9_results['error'][k]:f}\\t\",\n",
    "            f\"{scheme_9_results['time'][k]:f}\")\n"
   ]
  },
  {
   "cell_type": "code",
   "execution_count": null,
   "id": "3db7042f",
   "metadata": {},
   "outputs": [],
   "source": [
    "def stats_n(data):\n",
    "\n",
    "    U_M = np.mean(data)\n",
    "    var_M = np.var(data)\n",
    "    \n",
    "    error = 2*var_M/np.sqrt(M)\n",
    "    confidence_interval = [U_M - error, U_M + error]\n",
    "\n",
    "    return {\"U_M\": U_M,\n",
    "            \"var_M\": var_M,\n",
    "            \"error\": error,\n",
    "            \"confidence_interval\": confidence_interval}"
   ]
  },
  {
   "cell_type": "code",
   "execution_count": null,
   "id": "7740eac1",
   "metadata": {},
   "outputs": [],
   "source": [
    "def generate_subdivision(t):\n",
    "\n",
    "    t_size = np.size(t)\n",
    "    t_temp = t\n",
    "    \n",
    "    for k in range(0,t_size-1):\n",
    "        t = np.insert(t,2*k+1,(t_temp[k+1]+t_temp[k])/2)\n",
    "        \n",
    "    return t\n",
    "\n",
    "def generate_BM(t,W,W_orth,n=n_initial):\n",
    "\n",
    "    if np.size(W)==0 or np.size(W_orth)==0:\n",
    "        if np.size(t) != n:\n",
    "            raise Exception(f\"np.size(t) != n_initial\\n np.size(t)={np.size(t)},n_initial={n}\")\n",
    "            \n",
    "        G1 = np.random.randn(n)\n",
    "        G2 = np.random.randn(n)\n",
    "        \n",
    "        W.append(0)\n",
    "        W_orth.append(0)\n",
    "        \n",
    "        for i in range(n-1):\n",
    "            W.append(W[i] + np.sqrt(t[i+1] - t[i])*np.random.normal(0,1))\n",
    "            W_orth.append(W_orth[i] + np.sqrt(t[i+1] - t[i])*np.random.normal(0,1))\n",
    "        \n",
    "        return W, W_orth\n",
    "\n",
    "    W_temp = W\n",
    "    W_orth_temp = W_orth\n",
    "    \n",
    "    N = np.size(t)\n",
    "    \n",
    "    for i in range(1,N,2):\n",
    "        \n",
    "        var = (t[i+1] - t[i-1])/4\n",
    "        W_k = np.random.normal((W[i-1]+W[i])/2, np.sqrt(var))\n",
    "        W_orth_k = np.random.normal((W_orth[i-1]+W_orth[i])/2, np.sqrt(var))\n",
    "        \n",
    "        W_temp.insert(i,W_k)\n",
    "        W_orth_temp.insert(i,W_orth_k)\n",
    "\n",
    "    return W_temp, W_orth_temp"
   ]
  },
  {
   "cell_type": "markdown",
   "id": "16339327",
   "metadata": {},
   "source": [
    "### Validity of Brownian motion & Brownian bridge"
   ]
  },
  {
   "cell_type": "markdown",
   "id": "2f94ee44",
   "metadata": {},
   "source": [
    "### Brownian motion demo"
   ]
  },
  {
   "cell_type": "code",
   "execution_count": null,
   "id": "29f72885",
   "metadata": {},
   "outputs": [],
   "source": [
    "n_test = 100\n",
    "t_test = [k*T/(n_test-1) for k in range(n_test)]\n",
    "w, _ = generate_BM(t_test,[],[],n_test)\n",
    "\n",
    "plt.plot(t_test, w, color=\"y\")\n",
    "plt.show()"
   ]
  },
  {
   "cell_type": "code",
   "execution_count": null,
   "id": "faed63bc",
   "metadata": {},
   "outputs": [],
   "source": [
    "n_test = 100\n",
    "t_test = [k*T/(n_test-1) for k in range(n_test)]\n",
    "bm = 10**3\n",
    "\n",
    "e1 = []\n",
    "e2 = []\n",
    "\n",
    "for m in range(bm):\n",
    "    w1, w2 = generate_BM(t_test,[],[],n_test)\n",
    "    \n",
    "    e1.append(w1[-1]-w1[-2])\n",
    "    e2.append(w2[-1]-w2[-2])\n",
    "\n",
    "bm_range = np.arange(1,bm+1)\n",
    "\n",
    "t_delta = t_test[1]-t_test[0]\n",
    "\n",
    "var1 = np.cumsum(np.power(e1,2))/bm_range-(np.cumsum(e1)/bm_range)**2\n",
    "var2 = np.cumsum(np.power(e2,2))/bm_range-(np.cumsum(e2)/bm_range)**2\n",
    "\n",
    "plt.plot(bm_range, var1, color=\"blue\")\n",
    "plt.plot(bm_range, var2, color=\"orange\")\n",
    "\n",
    "plt.axhline(t_delta, color=\"black\", linestyle='--')\n",
    "plt.show()"
   ]
  },
  {
   "cell_type": "markdown",
   "id": "1ae19551",
   "metadata": {},
   "source": [
    "### Brownian bridge demo"
   ]
  },
  {
   "cell_type": "code",
   "execution_count": null,
   "id": "6b7fa01a",
   "metadata": {
    "scrolled": false
   },
   "outputs": [],
   "source": [
    "n_test = 7\n",
    "t_test = [k*T/(n_test-1) for k in range(n_test)]\n",
    "\n",
    "w1, w2 = generate_BM(t_test,[],[],n_test)\n",
    "\n",
    "for i in range(n_test):\n",
    "    t_test = generate_subdivision(t_test)\n",
    "    w1, w2 = generate_BM(t_test,w1,w2)\n",
    "\n",
    "plt.plot(t_test, w1, color=\"blue\")\n",
    "plt.plot(t_test, w2, color=\"orange\")\n",
    "plt.show()"
   ]
  },
  {
   "cell_type": "code",
   "execution_count": null,
   "id": "67fa715a",
   "metadata": {},
   "outputs": [],
   "source": [
    "n_test = 4\n",
    "n = 4\n",
    "\n",
    "bm = 10**3\n",
    "\n",
    "e1 = []\n",
    "e2 = []\n",
    "\n",
    "for m in range(bm):\n",
    "    t_test = [k*T/(n_test-1) for k in range(n_test)]\n",
    "    w1, w2 = generate_BM(t_test,[],[],n_test)\n",
    "\n",
    "    for i in range(4):\n",
    "\n",
    "        t_test=generate_subdivision(t_test)\n",
    "        w1, w2 = generate_BM(t_test,w1,w2)\n",
    "        \n",
    "    e1.append(w1[-1]-w1[-2])\n",
    "    e2.append(w2[-1]-w2[-2])\n",
    "\n",
    "bm_range = np.arange(1,bm+1)\n",
    "\n",
    "t_delta = t_test[1]-t_test[0]\n",
    "\n",
    "var1 = np.cumsum(np.power(e1,2))/bm_range-(np.cumsum(e1)/bm_range)**2\n",
    "var2 = np.cumsum(np.power(e2,2))/bm_range-(np.cumsum(e2)/bm_range)**2\n",
    "\n",
    "plt.plot(bm_range, var1, color=\"blue\")\n",
    "plt.plot(bm_range, var2, color=\"orange\")\n",
    "\n",
    "plt.axhline(t_delta, color=\"black\", linestyle='--')\n",
    "plt.show()"
   ]
  },
  {
   "cell_type": "markdown",
   "id": "1c133e16",
   "metadata": {},
   "source": [
    "# Main algorithms"
   ]
  },
  {
   "cell_type": "markdown",
   "id": "3ef338d6",
   "metadata": {},
   "source": [
    "## Euler scheme for (S,V) process"
   ]
  },
  {
   "cell_type": "code",
   "execution_count": null,
   "id": "2892c9de",
   "metadata": {},
   "outputs": [],
   "source": [
    "def S_V_process(t,W,W_orth):\n",
    "\n",
    "    n = np.size(t)\n",
    "\n",
    "    Y_n = np.zeros(n)\n",
    "    V_n = np.zeros(n)\n",
    "    S_n = np.zeros(n)\n",
    "\n",
    "    S_n[0] = S_0\n",
    "    Y_n[0] = Y_0\n",
    "    V_n[0] = V_0\n",
    "\n",
    "    t_delta = t[1] - t[0]\n",
    "\n",
    "    for k in range(1,n):\n",
    "\n",
    "        V_sum = 0\n",
    "        for i in range(k):\n",
    "            v_max = np.maximum(V_n[i],0)\n",
    "            #V_sum += ((K_t(t[k]-t[i])*(-l*np.maximum(V_n[i],0)*t_delta\n",
    "            #         + nu*np.sqrt(np.maximum(V_n[i],0))*(W[i+1] - W[i]))))\n",
    "            \n",
    "            V_sum += ((K_t(t[k]-t[i])*((theta - l*v_max)*t_delta\n",
    "                     + nu*np.sqrt(v_max)*(W[i+1] - W[i]))))\n",
    "\n",
    "        #K_integral = integrate.quad(lambda s: theta*K_t(t[k]-s), 0, t[k])[0]\n",
    "        V_n[k] = V_0 + V_sum #+ K_integral\n",
    "\n",
    "        Y_sum = 0\n",
    "        for i in range(k):\n",
    "            v_max = np.maximum(V_n[i],0)\n",
    "            Y_sum += (-0.5*v_max*t_delta + rho*np.sqrt(v_max)*(W[i+1] - W[i]) \n",
    "                  + np.sqrt(1 - rho**2)*np.sqrt(v_max)*(W_orth[i+1] - W_orth[i]))\n",
    "\n",
    "        Y_n[k] = Y_0 + Y_sum\n",
    "        S_n[k] = np.exp(Y_n[k])\n",
    "\n",
    "\n",
    "    return {\"V_n\": V_n,\n",
    "            \"S_n\": S_n}\n"
   ]
  },
  {
   "cell_type": "markdown",
   "id": "b26cf6ae",
   "metadata": {},
   "source": [
    "## Euler scheme for (S,X) process"
   ]
  },
  {
   "cell_type": "code",
   "execution_count": null,
   "id": "966e232e",
   "metadata": {},
   "outputs": [],
   "source": [
    "def S_X_process(t,Z,Z_orth):\n",
    "    \n",
    "    n = np.size(t)\n",
    "    \n",
    "    Y_n = np.zeros(n)\n",
    "    X_n = np.zeros(n)\n",
    "    X_n_max = np.zeros(n)\n",
    "    \n",
    "    S_n = np.zeros(n)\n",
    "\n",
    "    M_n = np.zeros(n)\n",
    "    M_n_orth = np.zeros(n)\n",
    "\n",
    "    Y_n[0] = Y_0\n",
    "    S_n[0] = S_0\n",
    "   \n",
    "    t_delta = t[1] - t[0]\n",
    "        \n",
    "    for k in range(n):\n",
    "\n",
    "        X_sum = 0\n",
    "        for i in range(k):\n",
    "            X_sum += (theta*t[i] - l*X_n_max[i] + nu*M_n[i])*t_delta*K_t(t[k] - t[i])\n",
    "            #X_sum += (-l*X_n_max[i] + nu*M_n[i])*t_delta*K_t(t[k] - t[i])\n",
    "\n",
    "        #K_integral = integrate.quad(lambda s: theta*s*K_t(t[k]-s), 0, t[k])[0]\n",
    "        \n",
    "        X_n[k] = V_0*t[k] + X_sum #+ K_integral\n",
    "        X_n_max[k] = np.max(X_n)\n",
    "\n",
    "        for i in range(1,k+1):\n",
    "            M_n[k] += np.sqrt(X_n_max[i] - X_n_max[i-1])*Z[i]\n",
    "            M_n_orth[k] += np.sqrt(X_n_max[i] - X_n_max[i-1])*Z_orth[i]\n",
    "        \n",
    "        Y_n[k] = Y_0 - 0.5*X_n_max[k] + rho*M_n[k] + np.sqrt(1 - rho**2)*M_n_orth[k]\n",
    "        S_n[k] = np.exp(Y_n[k])\n",
    "        \n",
    "        \n",
    "    return {\"S_n\": S_n,\n",
    "            \"X_n\": X_n}\n"
   ]
  },
  {
   "cell_type": "markdown",
   "id": "a18e8bfd",
   "metadata": {},
   "source": [
    "## Evaluation algorithms"
   ]
  },
  {
   "cell_type": "code",
   "execution_count": null,
   "id": "b23c236d",
   "metadata": {
    "scrolled": false
   },
   "outputs": [],
   "source": [
    "def scheme_8(f, variable, n=None):\n",
    "\n",
    "    iterations = number_of_iterations\n",
    "    N = n_initial\n",
    "    \n",
    "    if n != None:\n",
    "        iterations = 1\n",
    "        N = n\n",
    "        \n",
    "    t = [k*T/(N-1) for k in range(N)]\n",
    "\n",
    "    W_M = [0]*M\n",
    "    W_orth_M = [0]*M\n",
    "\n",
    "    for m in range(M):\n",
    "        W, W_orth = generate_BM(t,[],[],N)\n",
    "\n",
    "        W_M[m] = W\n",
    "        W_orth_M[m] = W_orth\n",
    " \n",
    "    final_result = {key: [] for key in [\"U_M\",\"n\",\"time\",\"var_M\",\"confidence_interval\",\"error\",\"cum_sum_n\"]}\n",
    "    evaluate = None\n",
    "    \n",
    "    for n in range(iterations):\n",
    "\n",
    "        t_0 = time()\n",
    "\n",
    "        t_delta = t[1]-t[0]\n",
    "\n",
    "        f_n_M = np.zeros(M)\n",
    "\n",
    "        for m in range(M):\n",
    "\n",
    "            result_sv = S_V_process(t,W_M[m],W_orth_M[m])\n",
    "\n",
    "            S_n = result_sv[\"S_n\"]\n",
    "            V_n = result_sv[\"V_n\"]\n",
    "            X_n = sum(V_n)*t_delta\n",
    "            \n",
    "            if variable == S_n_const:\n",
    "                evaluate = S_n\n",
    "            elif variable == V_n_const:\n",
    "                evaluate = V_n\n",
    "            elif variable == X_n_const:\n",
    "                evaluate = X_n\n",
    "            else:\n",
    "                raise Exception(f\"Wrong variable call: {variable}\")\n",
    "\n",
    "            f_n_M[m] = f(evaluate)\n",
    "\n",
    "            t_new = generate_subdivision(t)\n",
    "            W_M[m], W_orth_M[m] = generate_BM(t_new,W_M[m],W_orth_M[m])\n",
    "\n",
    "        \n",
    "        t_1 = time()\n",
    "        \n",
    "        n_result = stats_n(f_n_M)\n",
    "\n",
    "        final_result[\"U_M\"].append(n_result[\"U_M\"])\n",
    "        final_result[\"error\"].append(n_result[\"error\"])\n",
    "        final_result[\"var_M\"].append(n_result[\"var_M\"])\n",
    "        final_result[\"confidence_interval\"].append(n_result[\"confidence_interval\"])\n",
    "        final_result[\"time\"].append(t_1 - t_0)\n",
    "        final_result[\"n\"].append(np.size(t))\n",
    "\n",
    "        t = generate_subdivision(t)\n",
    "\n",
    "    return final_result"
   ]
  },
  {
   "cell_type": "code",
   "execution_count": null,
   "id": "02b4ffee",
   "metadata": {},
   "outputs": [],
   "source": [
    "def generate_Z(n, Z, Z_orth):\n",
    "        \n",
    "    if n == np.size(Z):\n",
    "        return Z, Z_orth\n",
    "    \n",
    "    if np.size(Z) == 0 or np.size(Z_orth) == 0:\n",
    "        Z = np.random.normal(0,1,n)\n",
    "        Z_orth = np.random.normal(0,1,n)\n",
    "        \n",
    "        return Z, Z_orth\n",
    "\n",
    "    for i in range(1,n,2):\n",
    "        Z = np.insert(Z, i, np.random.normal(0,1))\n",
    "        Z_orth = np.insert(Z_orth, i, np.random.normal(0,1))        \n",
    "        \n",
    "    return Z, Z_orth\n",
    "\n",
    "def scheme_9(f, variable, n=None):\n",
    "    \n",
    "    iterations = number_of_iterations\n",
    "    N = n_initial\n",
    "    \n",
    "    if n != None:\n",
    "        iterations = 1\n",
    "        N = n\n",
    "        \n",
    "    t = [k*T/(N-1) for k in range(N)]\n",
    "\n",
    "    Z_M = [0]*M\n",
    "    Z_orth_M = [0]*M\n",
    "\n",
    "    for m in range(M):\n",
    "        Z, Z_orth = generate_Z(np.size(t),[],[])\n",
    "\n",
    "        Z_M[m] = Z\n",
    "        Z_orth_M[m] = Z_orth\n",
    "        \n",
    "    final_result = {key: [] for key in [\"U_M\",\"n\",\"time\",\"var_M\",\"confidence_interval\",\"error\",\"cum_sum_n\"]}\n",
    "\n",
    "    evaluate = None\n",
    "        \n",
    "    for n in range(iterations):\n",
    "\n",
    "        t_0 = time()\n",
    "\n",
    "        f_n_M = np.zeros(M)\n",
    "        \n",
    "        for m in range(M):\n",
    "            result_sv = S_X_process(t,Z_M[m],Z_orth_M[m])\n",
    "\n",
    "            S_n = result_sv[\"S_n\"]\n",
    "            X_n = result_sv[\"X_n\"]\n",
    "\n",
    "            if variable == S_n_const:\n",
    "                evaluate = S_n\n",
    "            elif variable == X_n_const:\n",
    "                evaluate = X_n\n",
    "            else:\n",
    "                raise Exception(f\"Wrong variable call: {variable}\")\n",
    "\n",
    "            f_n_M[m] = f(evaluate)\n",
    "            \n",
    "            Z_M[m], Z_orth_M[m] = generate_Z(2*np.size(t)-1,Z_M[m],Z_orth_M[m])\n",
    "        \n",
    "        t_1 = time()\n",
    "        \n",
    "        n_result = stats_n(f_n_M)\n",
    "\n",
    "        final_result[\"U_M\"].append(n_result[\"U_M\"])\n",
    "        final_result[\"error\"].append(n_result[\"error\"])\n",
    "        final_result[\"var_M\"].append(n_result[\"var_M\"])\n",
    "        final_result[\"confidence_interval\"].append(n_result[\"confidence_interval\"])\n",
    "        final_result[\"time\"].append(t_1 - t_0)\n",
    "        final_result[\"n\"].append(np.size(t))\n",
    "        \n",
    "        t = generate_subdivision(t)\n",
    "\n",
    "    return final_result"
   ]
  },
  {
   "cell_type": "markdown",
   "id": "089c25e5",
   "metadata": {},
   "source": [
    "# Numerical experiments"
   ]
  },
  {
   "cell_type": "markdown",
   "id": "2f2d8cca",
   "metadata": {},
   "source": [
    "## _European call_ maximum(S_T-K,0)"
   ]
  },
  {
   "cell_type": "code",
   "execution_count": null,
   "id": "041d1b73",
   "metadata": {
    "scrolled": false
   },
   "outputs": [],
   "source": [
    "scheme_8_results = scheme_8(european_call_options, S_n_const)\n",
    "scheme_9_results = scheme_9(european_call_options, S_n_const)"
   ]
  },
  {
   "cell_type": "code",
   "execution_count": null,
   "id": "5d38e9a2",
   "metadata": {},
   "outputs": [],
   "source": [
    "plot_estimations(scheme_8_results, scheme_9_results, \"E[maximum(S_T-K,0)]\")\n",
    "show_numerical_results_table(scheme_8_results ,scheme_9_results, european_call_ref)"
   ]
  },
  {
   "cell_type": "markdown",
   "id": "52e2f55f",
   "metadata": {},
   "source": [
    "## _Asian option_ maximum(A_T-K,0)"
   ]
  },
  {
   "cell_type": "code",
   "execution_count": null,
   "id": "0226e0eb",
   "metadata": {
    "scrolled": false
   },
   "outputs": [],
   "source": [
    "scheme_8_results = scheme_8(asian_options, S_n_const)\n",
    "scheme_9_results = scheme_9(asian_options, S_n_const)"
   ]
  },
  {
   "cell_type": "code",
   "execution_count": null,
   "id": "7d4a5a1f",
   "metadata": {},
   "outputs": [],
   "source": [
    "plot_estimations(scheme_8_results, scheme_9_results, \"E[maximum(A_T-K,0)]\") \n",
    "show_numerical_results_table(scheme_8_results, scheme_9_results, \"-\")"
   ]
  },
  {
   "cell_type": "markdown",
   "id": "7e036c70",
   "metadata": {},
   "source": [
    "## _Lookback option_ maximum(M_T-K,0)\n"
   ]
  },
  {
   "cell_type": "code",
   "execution_count": null,
   "id": "9920c7a9",
   "metadata": {},
   "outputs": [],
   "source": [
    "scheme_8_results = scheme_8(lookback_options, S_n_const)\n",
    "scheme_9_results = scheme_9(lookback_options, S_n_const)"
   ]
  },
  {
   "cell_type": "code",
   "execution_count": null,
   "id": "1d06261f",
   "metadata": {},
   "outputs": [],
   "source": [
    "plot_estimations(scheme_8_results, scheme_9_results, \"E[maximum(M_T-K,0)]\")\n",
    "show_numerical_results_table(scheme_8_results, scheme_9_results, \"-\")"
   ]
  },
  {
   "cell_type": "markdown",
   "id": "56b89ec9",
   "metadata": {},
   "source": [
    "## _Variance swap price_ E[X_t]"
   ]
  },
  {
   "cell_type": "code",
   "execution_count": null,
   "id": "7d8bc709",
   "metadata": {},
   "outputs": [],
   "source": [
    "scheme_8_results = scheme_8(variance_swap_price, X_n_const)\n",
    "scheme_9_results = scheme_9(variance_swap_price, X_n_const)"
   ]
  },
  {
   "cell_type": "code",
   "execution_count": null,
   "id": "81056e8f",
   "metadata": {},
   "outputs": [],
   "source": [
    "plot_estimations(scheme_8_results, scheme_9_results, \"E[X_T]\", variance_swap_price_ref)\n",
    "show_numerical_results_table(scheme_8_results, scheme_9_results, variance_swap_price_ref)"
   ]
  },
  {
   "cell_type": "markdown",
   "id": "57504c98",
   "metadata": {},
   "source": [
    "## _Variance call price_ E[maximum(X_T-V_0,0)]"
   ]
  },
  {
   "cell_type": "code",
   "execution_count": null,
   "id": "32eed5fd",
   "metadata": {},
   "outputs": [],
   "source": [
    "scheme_8_results = scheme_8(variance_call_price, X_n_const)\n",
    "scheme_9_results = scheme_9(variance_call_price, X_n_const)"
   ]
  },
  {
   "cell_type": "code",
   "execution_count": null,
   "id": "a32739dd",
   "metadata": {},
   "outputs": [],
   "source": [
    "plot_estimations(scheme_8_results, scheme_9_results, \"E[maximum(X_T-V_0,0)]\", variance_call_price_ref)\n",
    "show_numerical_results_table(scheme_8_results, scheme_9_results, variance_call_price_ref)"
   ]
  },
  {
   "cell_type": "markdown",
   "id": "32be7798",
   "metadata": {},
   "source": [
    "## Results for fixed n"
   ]
  },
  {
   "cell_type": "code",
   "execution_count": null,
   "id": "d1429b90",
   "metadata": {},
   "outputs": [],
   "source": [
    "n = 320\n",
    "\n",
    "print(f\"n = {n}\")\n",
    "print()\n",
    "print(\"Payoff function\\t\\t||\\t Scheme 1\\t||\\t Scheme 2\\t||\\t Difference\")    \n",
    "print()\n",
    "\n",
    "european_call_options_8_results = scheme_8(european_call_options, S_n_const, n)\n",
    "european_call_options_9_results = scheme_9(european_call_options, S_n_const, n)\n",
    "\n",
    "print(f\"European call\\t\\t||\\t\",\n",
    "    f\"{european_call_options_8_results['U_M'][0]:f}\\t||\\t\",\n",
    "    f\"{european_call_options_9_results['U_M'][0]:f}\\t||\\t\",\n",
    "    f\"{np.abs(european_call_options_8_results['U_M'][0]-european_call_options_9_results['U_M'][0]):f}\\t\") \n",
    "\n",
    "asian_options_8_results = scheme_8(asian_options, S_n_const, n)\n",
    "asian_options_9_results = scheme_9(asian_options, S_n_const, n)\n",
    "\n",
    "print(f\"Asion call\\t\\t||\\t\",\n",
    "    f\"{asian_options_8_results['U_M'][0]:f}\\t||\\t\",\n",
    "    f\"{asian_options_9_results['U_M'][0]:f}\\t||\\t\",\n",
    "    f\"{np.abs(asian_options_8_results['U_M'][0]-asian_options_9_results['U_M'][0]):f}\\t\") \n",
    "\n",
    "lookback_options_8_results = scheme_8(lookback_options, S_n_const, n)\n",
    "lookback_options_9_results = scheme_9(lookback_options, S_n_const, n)\n",
    "\n",
    "print(f\"Lookback call\\t\\t||\\t\",\n",
    "    f\"{lookback_options_8_results['U_M'][0]:f}\\t||\\t\",\n",
    "    f\"{lookback_options_9_results['U_M'][0]:f}\\t||\\t\",\n",
    "    f\"{np.abs(lookback_options_8_results['U_M'][0]-lookback_options_9_results['U_M'][0]):f}\\t\") \n",
    "\n",
    "variance_swap_price_8_results = scheme_8(variance_swap_price, X_n_const, n)\n",
    "variance_swap_price_9_results = scheme_9(variance_swap_price, X_n_const, n)\n",
    "\n",
    "print(f\"Variance swap call\\t||\\t\",\n",
    "    f\"{variance_swap_price_8_results['U_M'][0]:f}\\t||\\t\",\n",
    "    f\"{variance_swap_price_9_results['U_M'][0]:f}\\t||\\t\",\n",
    "    f\"{np.abs(variance_swap_price_8_results['U_M'][0]-variance_swap_price_9_results['U_M'][0]):f}\\t\") \n",
    "\n",
    "variance_call_price_8_results = scheme_8(variance_call_price, X_n_const, n)\n",
    "variance_call_price_9_results = scheme_9(variance_call_price, X_n_const, n)\n",
    "\n",
    "print(f\"Variance call\\t\\t||\\t\",\n",
    "    f\"{variance_call_price_8_results['U_M'][0]:f}\\t||\\t\",\n",
    "    f\"{variance_call_price_9_results['U_M'][0]:f}\\t||\\t\",\n",
    "    f\"{np.abs(variance_call_price_8_results['U_M'][0]-variance_call_price_9_results['U_M'][0]):f}\\t\")"
   ]
  },
  {
   "cell_type": "code",
   "execution_count": null,
   "id": "1201293e",
   "metadata": {},
   "outputs": [],
   "source": []
  }
 ],
 "metadata": {
  "kernelspec": {
   "display_name": "Python 3 (ipykernel)",
   "language": "python",
   "name": "python3"
  },
  "language_info": {
   "codemirror_mode": {
    "name": "ipython",
    "version": 3
   },
   "file_extension": ".py",
   "mimetype": "text/x-python",
   "name": "python",
   "nbconvert_exporter": "python",
   "pygments_lexer": "ipython3",
   "version": "3.9.7"
  }
 },
 "nbformat": 4,
 "nbformat_minor": 5
}
